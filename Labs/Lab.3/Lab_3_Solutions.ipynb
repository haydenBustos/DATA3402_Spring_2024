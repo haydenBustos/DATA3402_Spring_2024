{
  "cells": [
    {
      "cell_type": "markdown",
      "metadata": {
        "id": "MBJOeyg1WYAF"
      },
      "source": [
        "# Lab 3\n",
        "\n",
        "In this lab we will become familiar with distributions, histograms, and functional programming. Do not use numpy or any other library for this lab.\n"
      ]
    },
    {
      "cell_type": "markdown",
      "metadata": {
        "id": "PftPIPQjWYAO"
      },
      "source": [
        "### Uniform Distribution\n",
        "Lets start with generating some fake random data. You can get a random number between 0 and 1 using the python random module as follow:"
      ]
    },
    {
      "cell_type": "code",
      "execution_count": 126,
      "metadata": {
        "colab": {
          "base_uri": "https://localhost:8080/"
        },
        "id": "MxWDoAmKWYAP",
        "outputId": "f8daab0a-34c4-4c20-c58d-466af93f4658"
      },
      "outputs": [
        {
          "output_type": "stream",
          "name": "stdout",
          "text": [
            "The Value of x is 0.09721231158295118\n"
          ]
        }
      ],
      "source": [
        "import random\n",
        "x=random.random()\n",
        "print(\"The Value of x is\", x)"
      ]
    },
    {
      "cell_type": "markdown",
      "metadata": {
        "id": "9sgsgQdfWYAR"
      },
      "source": [
        "Everytime you call random, you will get a new number.\n",
        "\n",
        "*Exercise 1:* Using random, write a function `generate_uniform(N, mymin, mymax)`, that returns a python list containing N random numbers between specified minimum and maximum value. Note that you may want to quickly work out on paper how to turn numbers between 0 and 1 to between other values."
      ]
    },
    {
      "cell_type": "code",
      "execution_count": 127,
      "metadata": {
        "id": "GbotnYhoWYAR"
      },
      "outputs": [],
      "source": [
        "def generate_uniform(N, x_min, x_max): # x_min x_max\n",
        "    out = []\n",
        "    for i in range(N):\n",
        "      i = random.random()\n",
        "      out.append((x_max - x_min)*i + x_min)\n",
        "\n",
        "    return out"
      ]
    },
    {
      "cell_type": "code",
      "execution_count": 128,
      "metadata": {
        "colab": {
          "base_uri": "https://localhost:8080/"
        },
        "id": "-JlqDuOjWYAS",
        "outputId": "83ed539d-2a36-41ed-d87f-8816e755d679"
      },
      "outputs": [
        {
          "output_type": "stream",
          "name": "stdout",
          "text": [
            "Data Type: <class 'list'>\n",
            "Data Length: 1000\n",
            "Type of Data Contents: <class 'float'>\n",
            "Data Minimum: -9.973414016616669\n",
            "Data Maximum: 9.998570374287205\n"
          ]
        }
      ],
      "source": [
        "data = generate_uniform(1000,-10,10)\n",
        "print (\"Data Type:\", type(data))\n",
        "print (\"Data Length:\", len(data))\n",
        "if len(data)>0:\n",
        "    print (\"Type of Data Contents:\", type(data[0]))\n",
        "    print (\"Data Minimum:\", min(data))\n",
        "    print (\"Data Maximum:\", max(data))"
      ]
    },
    {
      "cell_type": "markdown",
      "metadata": {
        "id": "7og6aHh-WYAT"
      },
      "source": [
        "*Exercise 2a:*\n",
        "Write a function that computes the mean of values in a list. Recall the equation for the mean of a random variable $\\bf{x}$ computed on a data set of $n$ values $\\{ x_i \\} = \\{x_1, x_2, ..., x_n\\}$  is ${\\bf\\bar{x}} = \\frac{1}{n} \\sum_i^n x_i$."
      ]
    },
    {
      "cell_type": "code",
      "execution_count": 129,
      "metadata": {
        "id": "_r18yIfAWYAU"
      },
      "outputs": [],
      "source": [
        "def mean(Data):\n",
        "    m=0\n",
        "    for i in Data:\n",
        "      m += i/len(Data)\n",
        "\n",
        "    return m"
      ]
    },
    {
      "cell_type": "code",
      "execution_count": 130,
      "metadata": {
        "colab": {
          "base_uri": "https://localhost:8080/"
        },
        "id": "tQ2e4ngxWYAV",
        "outputId": "f6fc4110-20c7-44a2-88d5-1359743292f2"
      },
      "outputs": [
        {
          "output_type": "stream",
          "name": "stdout",
          "text": [
            "Mean of Data: -0.33305680822783235\n"
          ]
        }
      ],
      "source": [
        "print (\"Mean of Data:\", mean(data))"
      ]
    },
    {
      "cell_type": "markdown",
      "metadata": {
        "id": "gL2WM0gPWYAV"
      },
      "source": [
        "*Exercise 2b:*\n",
        "Write a function that computes the variance of values in a list. Recall the equation for the variance of a random variable $\\bf{x}$ computed on a data set of $n$ values $\\{ x_i \\} = \\{x_1, x_2, ..., x_n\\}$  is ${\\bf\\langle x \\rangle} = \\frac{1}{n} \\sum_i^n (x_i - {\\bf\\bar{x}})$."
      ]
    },
    {
      "cell_type": "code",
      "execution_count": 131,
      "metadata": {
        "id": "arCf-IArWYAW"
      },
      "outputs": [],
      "source": [
        "def variance(Data):\n",
        "    m=0\n",
        "    mu = mean(Data)\n",
        "    for i in Data:\n",
        "      m = ((i-mu)*(1/len(Data)))\n",
        "\n",
        "    return m"
      ]
    },
    {
      "cell_type": "code",
      "execution_count": 132,
      "metadata": {
        "id": "1T1txer4WYAW",
        "colab": {
          "base_uri": "https://localhost:8080/"
        },
        "outputId": "7075176a-6384-48a2-f41f-56e5cbd9e4ca"
      },
      "outputs": [
        {
          "output_type": "stream",
          "name": "stdout",
          "text": [
            "Variance of Data: -0.007574267263167721\n"
          ]
        }
      ],
      "source": [
        "print (\"Variance of Data:\", variance(data))"
      ]
    },
    {
      "cell_type": "markdown",
      "metadata": {
        "id": "GtY4YGEDWYAX"
      },
      "source": [
        "# **Histogramming**"
      ]
    },
    {
      "cell_type": "markdown",
      "metadata": {
        "id": "cklUxNQGWYAX"
      },
      "source": [
        "*Exercise 3:* Write a function that bins the data so that you can create a histogram. An example of how to implement histogramming is the following logic:\n",
        "\n",
        "* User inputs a list of values `x` and optionally `n_bins` which defaults to 10.\n",
        "* If not supplied, find the minimum and maximum (`x_min`,`x_max`) of the values in x.\n",
        "* Determine the bin size (`bin_size`) by dividing the range of the function by the number of bins.\n",
        "* Create an empty list of zeros of size `n_bins`, call it `hist`.\n",
        "* Loop over the values in `x`\n",
        "    * Loop over the values in `hist` with index `i`:\n",
        "        * If x is between `x_min+i*bin_size` and `x_min+(i+1)*bin_size`, increment `hist[i].`\n",
        "        * For efficiency, try to use continue to goto the next bin and data point.\n",
        "* Return `hist` and the list corresponding of the bin edges (i.e. of `x_min+i*bin_size`).    "
      ]
    },
    {
      "cell_type": "code",
      "execution_count": 133,
      "metadata": {
        "id": "MN826vSkWYAY"
      },
      "outputs": [],
      "source": [
        "def histogram(x, n_bins, x_min=None, x_max=None):\n",
        "    if x_min is None:\n",
        "        x_min = min(x)\n",
        "    if x_max is None:\n",
        "        x_max = max(x)\n",
        "    bin_size = (x_max - x_min) / n_bins\n",
        "    hist = [0] * n_bins\n",
        "    for value in x:\n",
        "        if value < x_min or value > x_max:\n",
        "            continue\n",
        "        bin_index = int((value - x_min) / bin_size)\n",
        "        if bin_index >= 0 and bin_index < len(hist):\n",
        "            hist[bin_index] += 1\n",
        "    bin_edges = [x_min + i * bin_size for i in range(n_bins + 1)]\n",
        "\n",
        "    return hist, bin_edges"
      ]
    },
    {
      "cell_type": "code",
      "execution_count": 134,
      "metadata": {
        "id": "HWMOVskpWYAY",
        "colab": {
          "base_uri": "https://localhost:8080/"
        },
        "outputId": "2d9f7353-1140-4aa5-a1ef-d97588cfcc0b"
      },
      "outputs": [
        {
          "output_type": "stream",
          "name": "stdout",
          "text": [
            "[67, 50, 47, 57, 51, 54, 51, 56, 39, 51, 44, 57, 41, 54, 48, 46, 43, 54, 39, 50] [-9.973414016616669, -8.974814797071476, -7.976215577526282, -6.977616357981088, -5.9790171384358946, -4.9804179188907005, -3.9818186993455065, -2.9832194798003133, -1.9846202602551193, -0.9860210407099252, 0.012578178835267906, 1.011177398380461, 2.009776617925656, 3.008375837470849, 4.006975057016042, 5.005574276561237, 6.00417349610643, 7.0027727156516235, 8.001371935196818, 8.99997115474201, 9.998570374287205]\n"
          ]
        }
      ],
      "source": [
        "h, b = histogram(data,20)\n",
        "print(h, b)"
      ]
    },
    {
      "cell_type": "markdown",
      "metadata": {
        "id": "22UiqggZWYAY"
      },
      "source": [
        "*Exercise 4:* Write a function that uses the histogram function in the previous exercise to create a text-based \"graph\". For example the output could look like the following:\n",
        "```\n",
        "[  0,  1] : ######\n",
        "[  1,  2] : #####\n",
        "[  2,  3] : ######\n",
        "[  3,  4] : ####\n",
        "[  4,  5] : ####\n",
        "[  5,  6] : ######\n",
        "[  6,  7] : #####\n",
        "[  7,  8] : ######\n",
        "[  8,  9] : ####\n",
        "[  9, 10] : #####\n",
        "```\n",
        "\n",
        "Where each line corresponds to a bin and the number of `#`'s are proportional to the value of the data in the bin."
      ]
    },
    {
      "cell_type": "code",
      "execution_count": 135,
      "metadata": {
        "id": "mIhWJ6VjWYAZ"
      },
      "outputs": [],
      "source": [
        "def draw_histogram(x, n_bins, x_min=None, x_max=None, character=\"#\", max_character_per_line=20):\n",
        "    hist, bin_edges = histogram(x, n_bins, x_min, x_max)\n",
        "\n",
        "    for i in range(len(hist)):\n",
        "        lower_bound, upper_bound = bin_edges[i], bin_edges[i+1]\n",
        "        bin_width = upper_bound - lower_bound\n",
        "        bar_width = int(hist[i] / max(hist) * max_character_per_line)\n",
        "        bar = character * bar_width\n",
        "        print(f\"[{lower_bound:.3f}, {upper_bound:.3f}]: {bar}\")"
      ]
    },
    {
      "cell_type": "code",
      "execution_count": 136,
      "metadata": {
        "id": "_4r70SphWYAZ",
        "colab": {
          "base_uri": "https://localhost:8080/"
        },
        "outputId": "a64ea2b3-5dd0-44f7-fadf-e700f46e517e"
      },
      "outputs": [
        {
          "output_type": "stream",
          "name": "stdout",
          "text": [
            "[-9.973, -8.975]: ####################\n",
            "[-8.975, -7.976]: ##############\n",
            "[-7.976, -6.978]: ##############\n",
            "[-6.978, -5.979]: #################\n",
            "[-5.979, -4.980]: ###############\n",
            "[-4.980, -3.982]: ################\n",
            "[-3.982, -2.983]: ###############\n",
            "[-2.983, -1.985]: ################\n",
            "[-1.985, -0.986]: ###########\n",
            "[-0.986, 0.013]: ###############\n",
            "[0.013, 1.011]: #############\n",
            "[1.011, 2.010]: #################\n",
            "[2.010, 3.008]: ############\n",
            "[3.008, 4.007]: ################\n",
            "[4.007, 5.006]: ##############\n",
            "[5.006, 6.004]: #############\n",
            "[6.004, 7.003]: ############\n",
            "[7.003, 8.001]: ################\n",
            "[8.001, 9.000]: ###########\n",
            "[9.000, 9.999]: ##############\n"
          ]
        }
      ],
      "source": [
        "draw_histogram(data,20)"
      ]
    },
    {
      "cell_type": "markdown",
      "metadata": {
        "id": "K4VPD3IQWYAZ"
      },
      "source": [
        "## Functional Programming\n",
        "\n",
        "*Exercise 5:* Write a function the applies a booling function (that returns true/false) to **every element in data**, and **return a list of indices** of elements where the result was true. Use this function to find the indices of entries greater than 0.5."
      ]
    },
    {
      "cell_type": "code",
      "execution_count": 137,
      "metadata": {
        "id": "xcc22lzPWYAa"
      },
      "outputs": [],
      "source": [
        "def where(mylist, myfunc):\n",
        "    out = []\n",
        "    for i, value in enumerate(mylist):\n",
        "        if myfunc(value):\n",
        "            out.append(i)\n",
        "    return out\n",
        "\n",
        "def greater_than_0_5(x):\n",
        "    return x > 0.5"
      ]
    },
    {
      "cell_type": "code",
      "execution_count": null,
      "metadata": {
        "id": "CTYgPx8hWYAa"
      },
      "outputs": [],
      "source": [
        "where(data,greater_than_0_5)"
      ]
    },
    {
      "cell_type": "markdown",
      "metadata": {
        "id": "gjAC6PnEWYAa"
      },
      "source": [
        "*Exercise 6:* The `inrange(mymin,mymax)` function below returns a function that tests if it's input is between the specified values. Write corresponding functions that test:\n",
        "* Even\n",
        "* Odd\n",
        "* Greater than\n",
        "* Less than\n",
        "* Equal\n",
        "* Divisible by"
      ]
    },
    {
      "cell_type": "code",
      "execution_count": 139,
      "metadata": {
        "id": "xKRpwyZqWYAb",
        "colab": {
          "base_uri": "https://localhost:8080/"
        },
        "outputId": "3e61d7b5-47fd-4371-c5b5-db4affc5b64a"
      },
      "outputs": [
        {
          "output_type": "stream",
          "name": "stdout",
          "text": [
            "True True False False False\n",
            "False False True True False\n",
            "Number of Entries passing F1: 478\n",
            "Number of Entries passing F2: 0\n"
          ]
        }
      ],
      "source": [
        "def inrange(mymin,mymax):\n",
        "    def testrange(x):\n",
        "        return x<mymax and x>=mymin\n",
        "    return testrange\n",
        "\n",
        "# Examples:\n",
        "F1=inrange(0,10)\n",
        "F2=inrange(10,20)\n",
        "\n",
        "# Test of in_range\n",
        "print (F1(0), F1(1), F1(10), F1(15), F1(20))\n",
        "print (F2(0), F2(1), F2(10), F2(15), F2(20))\n",
        "\n",
        "print (\"Number of Entries passing F1:\", len(where(data,F1)))\n",
        "print (\"Number of Entries passing F2:\", len(where(data,F2)))"
      ]
    },
    {
      "cell_type": "code",
      "execution_count": 140,
      "metadata": {
        "id": "dl3l0lkFWYAb"
      },
      "outputs": [],
      "source": [
        "def is_even(x):                                                                 # test if even numbers\n",
        "    return x % 2 == 0\n",
        "\n",
        "def is_odd(x):                                                                  # Test for odd numbers\n",
        "    return x % 2 != 0\n",
        "\n",
        "def greater_than(value):                                                        # test for \">\"\n",
        "    def test(x):\n",
        "        return x > value\n",
        "    return test\n",
        "\n",
        "def less_than(value):                                                           # test for \"<\"\n",
        "    def test(x):\n",
        "        return x < value\n",
        "    return test\n",
        "\n",
        "def equal_to(value):                                                            # test for \"=\"\n",
        "    def test(x):\n",
        "        return x == value\n",
        "    return test\n",
        "\n",
        "def divisible_by(divisor):                                                      # test if divisible by a certain value\n",
        "    def test(x):\n",
        "        return x % divisor == 0\n",
        "    return test"
      ]
    },
    {
      "cell_type": "code",
      "execution_count": 141,
      "metadata": {
        "id": "lNMb_5RMWYAb",
        "colab": {
          "base_uri": "https://localhost:8080/"
        },
        "outputId": "33c401fe-8caf-40a0-a0cd-ef885190353e"
      },
      "outputs": [
        {
          "output_type": "stream",
          "name": "stdout",
          "text": [
            "True\n",
            "False\n",
            "False\n",
            "True\n"
          ]
        }
      ],
      "source": [
        "f1, f2, f3, f4 = 5, 9, 17, 6\n",
        "\n",
        "greater_than_2 = greater_than(2)\n",
        "less_than_6 = less_than(6)\n",
        "equal_to_9 = equal_to(9)\n",
        "divisible_by_3 = divisible_by(3)\n",
        "\n",
        "print(greater_than_2(f1))\n",
        "print(less_than_6(f2))\n",
        "print(equal_to_9(f3))\n",
        "print(divisible_by_3(f4))"
      ]
    },
    {
      "cell_type": "markdown",
      "metadata": {
        "id": "bzDMW-DMWYAb"
      },
      "source": [
        "*Exercise 7:* Repeat the previous exercise using `lambda` and the built-in python functions sum and map instead of your solution above."
      ]
    },
    {
      "cell_type": "code",
      "execution_count": 142,
      "metadata": {
        "id": "c85ZC8o6WYAc"
      },
      "outputs": [],
      "source": [
        "is_even = lambda x: x % 2 == 0\n",
        "is_odd = lambda x: x % 2 != 0\n",
        "greater_than = lambda value: lambda x: x > value\n",
        "less_than = lambda value: lambda x: x < value\n",
        "equal_to = lambda value: lambda x: x == value\n",
        "divisible_by = lambda divisor: lambda x: x % divisor == 0"
      ]
    },
    {
      "cell_type": "code",
      "source": [
        "even_numbers = [3, 4, 7, 8, 7]\n",
        "result = sum(map(is_even, even_numbers))\n",
        "print(f\"Count of even numbers: {result}\")\n",
        "\n",
        "odd_numbers = [1, 3, 5, 6, 8]\n",
        "result = sum(map(is_odd, odd_numbers))\n",
        "print(f\"Count of odd numbers: {result}\")\n",
        "\n",
        "greater_than_5 = [3, 4, 5, 6, 7]\n",
        "result = sum(map(greater_than(5), greater_than_5))\n",
        "print(f\"Count of greater than 5: {result}\")\n",
        "\n",
        "less_than_5 = [3, 4, 5, 6, 7]\n",
        "result = sum(map(less_than(5), less_than_5))\n",
        "print(f\"Count of less than 5: {result}\")\n",
        "\n",
        "equal_to_5 = [5, 7, 3, 5, 9]\n",
        "result = sum(map(equal_to(5), equal_to_5))\n",
        "print(f\"Count of equal to 5: {result}\")\n",
        "\n",
        "divisible_by_3 = [3, 6, 8, 11, 15]\n",
        "result = sum(map(divisible_by(3), divisible_by_3))\n",
        "print(f\"Count of divisible by 3: {result}\")"
      ],
      "metadata": {
        "colab": {
          "base_uri": "https://localhost:8080/"
        },
        "id": "7tFoA2PeZgL2",
        "outputId": "3946f50e-ba0a-4637-ff5d-f1c3a457db55"
      },
      "execution_count": 143,
      "outputs": [
        {
          "output_type": "stream",
          "name": "stdout",
          "text": [
            "Count of even numbers: 2\n",
            "Count of odd numbers: 3\n",
            "Count of greater than 5: 2\n",
            "Count of less than 5: 2\n",
            "Count of equal to 5: 2\n",
            "Count of divisible by 3: 3\n"
          ]
        }
      ]
    },
    {
      "cell_type": "markdown",
      "metadata": {
        "id": "D9_LLvLgWYAc"
      },
      "source": [
        "## Monte Carlo\n",
        "\n",
        "*Exercise 7:* Write a \"generator\" function called `generate_function(func,x_min,x_max,N)`, that instead of generating a flat distribution, generates a distribution with functional form coded in `func`. Note that `func` will always be > 0.  \n",
        "\n",
        "Use the test function below and your histogramming functions above to demonstrate that your generator is working properly.\n",
        "\n",
        "Hint: A simple, but slow, solution is to a draw random number `test_x` within the specified range and another number `p` between the `min` and `max` of the function (which you will have to determine). If `p<=function(test_x)`, then place `test_x` on the output. If not, repeat the process, drawing two new numbers. Repeat until you have the specified number of generated numbers, `N`. For this problem, it's OK to determine the `min` and `max` by numerically sampling the function.  "
      ]
    },
    {
      "cell_type": "code",
      "execution_count": 144,
      "metadata": {
        "id": "kus_XBZNWYAc"
      },
      "outputs": [],
      "source": [
        "import random\n",
        "\n",
        "def generate_function(func, x_min, x_max, N=1000):\n",
        "    out = list()\n",
        "    while len(out) < N:\n",
        "        test_x = random.uniform(x_min, x_max)\n",
        "        p = random.uniform(0, max(func(x) for x in range(int(x_min), int(x_max) + 1)))\n",
        "        if p <= func(test_x):\n",
        "          out.append(test_x)\n",
        "    return out"
      ]
    },
    {
      "cell_type": "code",
      "execution_count": 145,
      "metadata": {
        "id": "e9kmc_6OWYAc",
        "colab": {
          "base_uri": "https://localhost:8080/"
        },
        "outputId": "0541c2af-be0c-4afd-8666-2b357b3fadf0"
      },
      "outputs": [
        {
          "output_type": "stream",
          "name": "stdout",
          "text": [
            "[1.048, 2.837]: #####\n",
            "[2.837, 4.626]: ########\n",
            "[4.626, 6.415]: ############\n",
            "[6.415, 8.204]: ##############\n",
            "[8.204, 9.993]: ####################\n",
            "None\n"
          ]
        }
      ],
      "source": [
        "# A test function\n",
        "def test_func(x,a=1,b=1):\n",
        "    return abs(a*x+b)\n",
        "\n",
        "generated_numbers = generate_function(test_func, 1, 10)\n",
        "\n",
        "hist = draw_histogram(generated_numbers, n_bins = 5)\n",
        "print(hist)"
      ]
    },
    {
      "cell_type": "markdown",
      "metadata": {
        "id": "D4RtAIBsWYAd"
      },
      "source": [
        "*Exercise 8:* Use your function to generate 1000 numbers that are normal distributed, using the `gaussian` function below. Confirm the mean and variance of the data is close to the mean and variance you specify when building the Gaussian. Histogram the data."
      ]
    },
    {
      "cell_type": "code",
      "execution_count": 146,
      "metadata": {
        "id": "XmMvBHg7WYAd",
        "colab": {
          "base_uri": "https://localhost:8080/"
        },
        "outputId": "fe2553e3-365b-4fd0-dd6b-be1532feb6f5"
      },
      "outputs": [
        {
          "output_type": "stream",
          "name": "stdout",
          "text": [
            "[-2.841, -2.257]: #\n",
            "[-2.257, -1.673]: ###\n",
            "[-1.673, -1.089]: #######\n",
            "[-1.089, -0.505]: ###############\n",
            "[-0.505, 0.079]: ####################\n",
            "[0.079, 0.663]: #################\n",
            "[0.663, 1.247]: ###########\n",
            "[1.247, 1.831]: #####\n",
            "[1.831, 2.415]: #\n",
            "[2.415, 2.998]: \n",
            "None\n"
          ]
        }
      ],
      "source": [
        "import math\n",
        "\n",
        "def gaussian(mean, sigma):\n",
        "    def f(x):\n",
        "        return math.exp(-((x-mean)**2)/(2*sigma**2))/math.sqrt(math.pi*sigma)\n",
        "    return f\n",
        "\n",
        "# Example Instantiation\n",
        "g1=gaussian(0,1)\n",
        "g2=gaussian(10,3)\n",
        "\n",
        "histog = draw_histogram(generate_function(g1, -3, 3), n_bins = 10)\n",
        "print(histog)"
      ]
    },
    {
      "cell_type": "code",
      "source": [
        "import numpy as np\n",
        "g1 = gaussian(0, 1)\n",
        "data = [g1(np.random.randn()) for _ in range(1000)]\n",
        "\n",
        "# Draw histogram of the generated data\n",
        "draw_histogram(data, n_bins=20)"
      ],
      "metadata": {
        "id": "GcWiXMy-x-Pm",
        "colab": {
          "base_uri": "https://localhost:8080/"
        },
        "outputId": "82f0c1a2-d257-42d2-9128-0274d70f51b4"
      },
      "execution_count": 147,
      "outputs": [
        {
          "output_type": "stream",
          "name": "stdout",
          "text": [
            "[0.004, 0.032]: #\n",
            "[0.032, 0.060]: #\n",
            "[0.060, 0.088]: #\n",
            "[0.088, 0.116]: ##\n",
            "[0.116, 0.144]: #\n",
            "[0.144, 0.172]: #\n",
            "[0.172, 0.200]: ##\n",
            "[0.200, 0.228]: #\n",
            "[0.228, 0.256]: ##\n",
            "[0.256, 0.284]: ##\n",
            "[0.284, 0.312]: ###\n",
            "[0.312, 0.340]: ###\n",
            "[0.340, 0.368]: ###\n",
            "[0.368, 0.396]: ####\n",
            "[0.396, 0.424]: ####\n",
            "[0.424, 0.452]: ####\n",
            "[0.452, 0.480]: #####\n",
            "[0.480, 0.508]: ######\n",
            "[0.508, 0.536]: #######\n",
            "[0.536, 0.564]: ####################\n"
          ]
        }
      ]
    },
    {
      "cell_type": "markdown",
      "metadata": {
        "id": "iywtcBmkWYAd"
      },
      "source": [
        "*Exercise 9:* Combine your `generate_function`, `where`, and `in_range` functions above to create an integrate function. Use your integrate function to show that approximately 68% of Normal distribution is within one variance."
      ]
    },
    {
      "cell_type": "code",
      "execution_count": 148,
      "metadata": {
        "id": "XVDE0zhGWYAe"
      },
      "outputs": [],
      "source": [
        "import random\n",
        "\n",
        "def normal_distribution(x, mean=0, std_dev=1):\n",
        "    return (1 / (std_dev * (2 * 3.14159)**0.5)) * 2.71828**(-0.5 * ((x - mean) / std_dev) ** 2)\n",
        "\n",
        "def integrate(func, x_min, x_max, n_points=1000):\n",
        "    integral = 0\n",
        "    for _ in range(n_points):\n",
        "        x = random.uniform(x_min, x_max)\n",
        "        integral += func(x)\n",
        "\n",
        "    integral *= (x_max - x_min) / n_points\n",
        "\n",
        "    return integral"
      ]
    },
    {
      "cell_type": "code",
      "execution_count": 149,
      "metadata": {
        "id": "oOfyj3n-WYAe",
        "colab": {
          "base_uri": "https://localhost:8080/"
        },
        "outputId": "1734f3f5-6e1f-4a3e-bd00-4c744a0d9fdb"
      },
      "outputs": [
        {
          "output_type": "stream",
          "name": "stdout",
          "text": [
            "Percent of distribution within one variance: 0.6810087495388115\n"
          ]
        }
      ],
      "source": [
        "mean = 0\n",
        "std_dev = 1\n",
        "x_min = mean - std_dev\n",
        "x_max = mean + std_dev\n",
        "proportion_within_one_std_dev = integrate(normal_distribution, x_min, x_max)\n",
        "\n",
        "print(\"Percent of distribution within one variance:\", proportion_within_one_std_dev)\n"
      ]
    },
    {
      "cell_type": "markdown",
      "source": [
        "# **Quick Quiz:**\n",
        "Can you rewrite create_new_args as a two lines of code using functional programming, list comprehensions, and shortcuts?\n",
        "- How about a single line?"
      ],
      "metadata": {
        "id": "AThGzS-q61v2"
      }
    },
    {
      "cell_type": "code",
      "source": [
        "def create_new_args_0(args):\n",
        "    max_len = max(map(len,\n",
        "                      filter(lambda x: isinstance(x,list),\n",
        "                        args)))\n",
        "\n",
        "    # Rewrite this section:\n",
        "    new_args=list()\n",
        "\n",
        "    for a in args:\n",
        "        if not isinstance(a,list):\n",
        "            a0=[a]*max_len\n",
        "        elif len(a)!=max_len:\n",
        "            print(\"Error: all list arguments must have same length.\")\n",
        "            return\n",
        "        else:\n",
        "            a0=a\n",
        "        new_args.append(a0)\n",
        "\n",
        "    return new_args"
      ],
      "metadata": {
        "id": "kZi5mmFU624L"
      },
      "execution_count": 150,
      "outputs": []
    },
    {
      "cell_type": "code",
      "source": [
        "def create_new_args_1(args):\n",
        "    return [[a] * max_len if not isinstance(a, list) else a if len(a) == max_len else exit(\"Error: all list arguments must have the same length.\") for a in args] if (max_len := max(map(len, filter(lambda x: isinstance(x, list), args)))) else []"
      ],
      "metadata": {
        "id": "OsdssSaU63E1"
      },
      "execution_count": 151,
      "outputs": []
    },
    {
      "cell_type": "code",
      "source": [
        "create_new_args_1([[1,2],[3,4],5])"
      ],
      "metadata": {
        "id": "0uUCQfaR6__-",
        "colab": {
          "base_uri": "https://localhost:8080/"
        },
        "outputId": "e6d331fb-32ac-4db0-db7c-5c336f005b7f"
      },
      "execution_count": 152,
      "outputs": [
        {
          "output_type": "execute_result",
          "data": {
            "text/plain": [
              "[[1, 2], [3, 4], [5, 5]]"
            ]
          },
          "metadata": {},
          "execution_count": 152
        }
      ]
    },
    {
      "cell_type": "code",
      "source": [
        "create_new_args_0([[1,2],[3,4,5],5])"
      ],
      "metadata": {
        "id": "TKXFX3xF7AS_",
        "colab": {
          "base_uri": "https://localhost:8080/"
        },
        "outputId": "efa8874e-684b-48e7-8e49-d05e4ee45fac"
      },
      "execution_count": 153,
      "outputs": [
        {
          "output_type": "stream",
          "name": "stdout",
          "text": [
            "Error: all list arguments must have same length.\n"
          ]
        }
      ]
    }
  ],
  "metadata": {
    "kernelspec": {
      "display_name": "Python 3 (ipykernel)",
      "language": "python",
      "name": "python3"
    },
    "language_info": {
      "codemirror_mode": {
        "name": "ipython",
        "version": 3
      },
      "file_extension": ".py",
      "mimetype": "text/x-python",
      "name": "python",
      "nbconvert_exporter": "python",
      "pygments_lexer": "ipython3",
      "version": "3.9.6"
    },
    "colab": {
      "provenance": []
    }
  },
  "nbformat": 4,
  "nbformat_minor": 0
}