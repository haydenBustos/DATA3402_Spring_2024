{
  "cells": [
    {
      "cell_type": "markdown",
      "metadata": {
        "id": "QVcdDCMA8BPs"
      },
      "source": [
        "# Lab 5\n"
      ]
    },
    {
      "cell_type": "markdown",
      "metadata": {
        "id": "As1il86k8BPz"
      },
      "source": [
        "Matrix Representation: In this lab you will be creating a simple linear algebra system. In memory, we will represent matrices as nested python lists as we have done in lecture.\n",
        "\n",
        "1. Create a `matrix` class with the following properties:\n",
        "    * It can be initialized in 2 ways:\n",
        "        1. with arguments `n` and `m`, the size of the matrix. A newly instanciated matrix will contain all zeros.\n",
        "        2. with a list of lists of values. Note that since we are using lists of lists to implement matrices, it is possible that not all rows have the same number of columns. Test explicitly that the matrix is properly specified.\n",
        "    * Matrix instances `M` can be indexed with `M[i][j]` and `M[i,j]`.\n",
        "    * Matrix assignment works in 2 ways:\n",
        "        1. If `M_1` and `M_2` are `matrix` instances `M_1=M_2` sets the values of `M_1` to those of `M_2`, if they are the same size. Error otherwise.\n",
        "        2. In example above `M_2` can be a list of lists of correct size.\n",
        "        Does not have to be done first.\n"
      ]
    },
    {
      "cell_type": "code",
      "source": [
        "class Matrix:\n",
        "    def __init__(self, *args):\n",
        "        if len(args) == 2:\n",
        "            n, m = args\n",
        "            self.matrix = [[0] * m for _ in range(n)]\n",
        "        elif len(args) == 1:\n",
        "            if isinstance(args[0], list):\n",
        "                num_cols = len(args[0][0])                                      # Length of first inner list\n",
        "\n",
        "                if all(len(row) == num_cols for row in args[0]):\n",
        "                    self.matrix = args[0]                                       # Rows must be the same length\n",
        "                else:\n",
        "                    raise ValueError(\"Rows must have the same number of columns\")\n",
        "\n",
        "    def __getitem__(self, indices):\n",
        "        if isinstance(indices, tuple):\n",
        "            i, j = indices\n",
        "            return self.matrix[i][j]\n",
        "        else:\n",
        "            raise TypeError(\"Invalid index type. Must be a tuple (i, j).\")\n",
        "\n",
        "    def __setitem__(self, indices, value):\n",
        "        if isinstance(indices, tuple):\n",
        "            i, j = indices\n",
        "            self.matrix[i][j] = value\n",
        "        else:\n",
        "            raise TypeError(\"Invalid index type. Must be a tuple (i, j).\")\n",
        "\n",
        "    def __eq__(self, other_matrix):\n",
        "        if isinstance(other_matrix, Matrix):\n",
        "            return self.matrix == other_matrix\n",
        "        else:\n",
        "            return False\n",
        "\n",
        "    def __str__(self):\n",
        "        return '\\n'.join([' '.join(map(str, row)) for row in self.matrix])"
      ],
      "metadata": {
        "id": "eNLYok7FFTBp"
      },
      "execution_count": 1,
      "outputs": []
    },
    {
      "cell_type": "code",
      "source": [
        "M1 = Matrix(3, 3)\n",
        "print(\"Initialized with size:\")\n",
        "print(M1)\n",
        "\n",
        "M2 = Matrix([[1, 2, 3], [4, 5, 6], [7, 8, 9]])\n",
        "print(\"\\nInitialized with a list of lists:\")\n",
        "print(M2)\n",
        "\n",
        "print(\"\\nAccess elements:\")\n",
        "print(M2[1, 1])\n",
        "\n",
        "M2[1, 1] = 10\n",
        "print(\"\\nModify elements:\")\n",
        "print(M2)\n",
        "\n",
        "print(\"\\nTest equality:\")\n",
        "print(M1 == M2)\n",
        "print(M2 == Matrix([[1, 2, 3], [4, 10, 6], [7, 8, 9]]))"
      ],
      "metadata": {
        "colab": {
          "base_uri": "https://localhost:8080/"
        },
        "id": "sweTqg_AbO4I",
        "outputId": "bd47ff9a-6041-453e-d7f4-6b64d65b9492"
      },
      "execution_count": 2,
      "outputs": [
        {
          "output_type": "stream",
          "name": "stdout",
          "text": [
            "Initialized with size:\n",
            "0 0 0\n",
            "0 0 0\n",
            "0 0 0\n",
            "\n",
            "Initialized with a list of lists:\n",
            "1 2 3\n",
            "4 5 6\n",
            "7 8 9\n",
            "\n",
            "Access elements:\n",
            "5\n",
            "\n",
            "Modify elements:\n",
            "1 2 3\n",
            "4 10 6\n",
            "7 8 9\n",
            "\n",
            "Test equality:\n",
            "False\n",
            "False\n"
          ]
        }
      ]
    },
    {
      "cell_type": "markdown",
      "metadata": {
        "id": "ssuDlStM8BP0"
      },
      "source": [
        "2. Add the following methods:\n",
        "    * `shape()`: returns a tuple `(n,m)` of the shape of the matrix.\n",
        "    * `transpose()`: returns a new matrix instance which is the transpose of the matrix.\n",
        "    * `row(n)` and `column(n)`: that return the nth row or column of the matrix M as a new appropriately shaped matrix object.\n",
        "    * `to_list()`: which returns the matrix as a list of lists.\n",
        "    *  `block(n_0,n_1,m_0,m_1)` that returns a smaller matrix located at the n_0 to n_1 columns and m_0 to m_1 rows.\n",
        "    * **(Extra credit) Modify `__getitem__` implemented above to support slicing.**\n",
        "        "
      ]
    },
    {
      "cell_type": "code",
      "source": [
        "def shape(self):\n",
        "  n = len(self.matrix)\n",
        "  m = len(self.matrix[0])\n",
        "  return (n, m)\n",
        "\n",
        "Matrix.shape = shape\n",
        "\n",
        "def transpose(self):\n",
        "  n, m = self.shape()\n",
        "  transposed_data = [[self.matrix[j][i] for j in range(n)] for i in range(m)]\n",
        "  return Matrix(transposed_data)\n",
        "\n",
        "Matrix.transpose = transpose\n",
        "\n",
        "def row(self, n):\n",
        "  return Matrix([self.data[n]])\n",
        "\n",
        "Matrix.row = row\n",
        "\n",
        "def column(self, m):\n",
        "  return Matrix([[row[m]] for row in self.data])\n",
        "\n",
        "Matrix.column = column\n",
        "\n",
        "def to_list(self):\n",
        "  return self.data\n",
        "\n",
        "Matrix.to_list = to_list\n",
        "\n",
        "def block(self, n_0, n_1, m_0, m_1):\n",
        "  return Matrix([row[n_0:n_1] for row in self.data[m_0:m_1]])\n",
        "\n",
        "Matrix.block = block\n"
      ],
      "metadata": {
        "id": "ghksn1EeFTkY"
      },
      "execution_count": 3,
      "outputs": []
    },
    {
      "cell_type": "code",
      "source": [
        "print(M1)"
      ],
      "metadata": {
        "colab": {
          "base_uri": "https://localhost:8080/"
        },
        "id": "_ax92T5O2ehn",
        "outputId": "22b9c67b-5fdd-4a10-83cb-6a64dcb436c8"
      },
      "execution_count": 4,
      "outputs": [
        {
          "output_type": "stream",
          "name": "stdout",
          "text": [
            "0 0 0\n",
            "0 0 0\n",
            "0 0 0\n"
          ]
        }
      ]
    },
    {
      "cell_type": "markdown",
      "metadata": {
        "id": "KwpvvKhj8BP1"
      },
      "source": [
        "3. Write functions that create special matrices (note these are standalone functions, not member functions of your `matrix` class):\n",
        "    * `constant(n,m,c)`: returns a `n` by `m` matrix filled with floats of value `c`.\n",
        "    * `zeros(n,m)` and `ones(n,m)`: return `n` by `m` matrices filled with floats of value `0` and `1`, respectively.\n",
        "    * `eye(n)`: returns the n by n identity matrix."
      ]
    },
    {
      "cell_type": "code",
      "source": [
        "def constant(n, m, c):\n",
        "    return [[c] * m for _ in range(n)]\n",
        "\n",
        "def zeros(n, m):\n",
        "    return constant(n, m, 0)\n",
        "\n",
        "def ones(n, m):\n",
        "    return constant(n, m, 1)\n",
        "\n",
        "def eye(n):\n",
        "    return [[1 if i == j else 0 for j in range(n)] for i in range(n)]"
      ],
      "metadata": {
        "id": "4b5-QYFvFT_c"
      },
      "execution_count": 5,
      "outputs": []
    },
    {
      "cell_type": "code",
      "source": [
        "print(\"Constant matrix:\")\n",
        "print(constant(3, 3, 5))\n",
        "\n",
        "print(\"\\nZeros matrix:\")\n",
        "print(zeros(2, 2))\n",
        "\n",
        "print(\"\\nOnes matrix:\")\n",
        "print(ones(2, 3))\n",
        "\n",
        "print(\"\\nIdentity matrix:\")\n",
        "print(eye(4))"
      ],
      "metadata": {
        "colab": {
          "base_uri": "https://localhost:8080/"
        },
        "id": "RS0GmZD9NTtX",
        "outputId": "526e8530-1576-419a-947a-f5f79b0ac2d0"
      },
      "execution_count": 6,
      "outputs": [
        {
          "output_type": "stream",
          "name": "stdout",
          "text": [
            "Constant matrix:\n",
            "[[5, 5, 5], [5, 5, 5], [5, 5, 5]]\n",
            "\n",
            "Zeros matrix:\n",
            "[[0, 0], [0, 0]]\n",
            "\n",
            "Ones matrix:\n",
            "[[1, 1, 1], [1, 1, 1]]\n",
            "\n",
            "Identity matrix:\n",
            "[[1, 0, 0, 0], [0, 1, 0, 0], [0, 0, 1, 0], [0, 0, 0, 1]]\n"
          ]
        }
      ]
    },
    {
      "cell_type": "markdown",
      "metadata": {
        "id": "i07yIXuy8BP1"
      },
      "source": [
        "4. Add the following member functions to your class. Make sure to appropriately test the dimensions of the matrices to make sure the operations are correct.\n",
        "    * `M.scalarmul(c)`: a matrix that is scalar product $cM$, where every element of $M$ is multiplied by $c$.\n",
        "    * `M.add(N)`: adds two matrices $M$ and $N$. Don’t forget to test that the sizes of the matrices are compatible for this and all other operations.\n",
        "    * `M.sub(N)`: subtracts two matrices $M$ and $N$.\n",
        "    * `M.mat_mult(N)`: returns a matrix that is the matrix product of two matrices $M$ and $N$.\n",
        "    * `M.element_mult(N)`: returns a matrix that is the element-wise product of two matrices $M$ and $N$.\n",
        "    * `M.equals(N)`: returns true/false if $M==N$."
      ]
    },
    {
      "cell_type": "code",
      "source": [
        "def scalarmul(self, c):\n",
        "  return Matrix([[c * element for element in row] for row in self.matrix])\n",
        "\n",
        "Matrix.scalarmul = scalarmul\n",
        "\n",
        "def add(self, other):\n",
        "  if self.shape() != other.shape():\n",
        "    raise ValueError(\"Matrices must have the same dimensions for addition.\")\n",
        "  return Matrix([[self.matrix[i][j] + other.matrix[i][j] for j in range(self.shape()[1])] for i in range(self.shape()[0])])\n",
        "\n",
        "Matrix.add = add\n",
        "\n",
        "def sub(self, other):\n",
        "  if self.shape() != other.shape():\n",
        "    raise ValueError(\"Matrices must have the same dimensions for subtraction.\")\n",
        "  return Matrix([[self.matrix[i][j] - other.matrix[i][j] for j in range(self.shape()[1])] for i in range(self.shape()[0])])\n",
        "\n",
        "Matrix.sub = sub\n",
        "\n",
        "def mat_mult(self, other):\n",
        "  if self.shape()[1] != other.shape()[0]:\n",
        "    raise ValueError(\"Number of columns in the first matrix must be equal to the number of rows in the second matrix for matrix multiplication.\")\n",
        "  result = [[sum(self.matrix[i][k] * other.matrix[k][j] for k in range(self.shape()[1])) for j in range(other.shape()[1])] for i in range(self.shape()[0])]\n",
        "  return Matrix(result)\n",
        "\n",
        "Matrix.mat_mult = mat_mult\n",
        "\n",
        "def element_mult(self, other):\n",
        "  if self.shape() != other.shape():\n",
        "    raise ValueError(\"Matrices must have the same dimensions for element-wise multiplication.\")\n",
        "  return Matrix([[self.matrix[i][j] * other.matrix[i][j] for j in range(self.shape()[1])] for i in range(self.shape()[0])])\n",
        "\n",
        "Matrix.element_mult = element_mult\n",
        "\n",
        "def equals(self, other):\n",
        "  return self.matrix == other.matrix\n",
        "\n",
        "Matrix.equals = equals"
      ],
      "metadata": {
        "id": "H5eDDvpIFUcD"
      },
      "execution_count": 7,
      "outputs": []
    },
    {
      "cell_type": "code",
      "source": [
        "M3 = Matrix([[1, 2, 3], [4, 5, 6], [7, 8, 9]])\n",
        "M4 = Matrix([[9, 8, 7], [6, 5, 4], [3, 2, 1]])\n",
        "\n",
        "print(\"\\nScalar multiplication:\")\n",
        "print(M4.scalarmul(2))\n",
        "\n",
        "print(\"\\nMatrix addition:\")\n",
        "print(M3.add(M4))\n",
        "\n",
        "print(\"\\nMatrix subtraction:\")\n",
        "print(M3.sub(M4))\n",
        "\n",
        "print(\"\\nMatrix multiplication:\")\n",
        "print(M4.mat_mult(M3))\n",
        "\n",
        "print(\"\\nElement-wise multiplication:\")\n",
        "print(M4.element_mult(M3))\n",
        "\n",
        "print(\"\\nMatrix equality check:\")\n",
        "print(M4.equals(M3))"
      ],
      "metadata": {
        "colab": {
          "base_uri": "https://localhost:8080/"
        },
        "id": "xsyKJa2nUfsW",
        "outputId": "82753d03-e37a-46e1-c0d3-f62d7623755b"
      },
      "execution_count": 8,
      "outputs": [
        {
          "output_type": "stream",
          "name": "stdout",
          "text": [
            "\n",
            "Scalar multiplication:\n",
            "18 16 14\n",
            "12 10 8\n",
            "6 4 2\n",
            "\n",
            "Matrix addition:\n",
            "10 10 10\n",
            "10 10 10\n",
            "10 10 10\n",
            "\n",
            "Matrix subtraction:\n",
            "-8 -6 -4\n",
            "-2 0 2\n",
            "4 6 8\n",
            "\n",
            "Matrix multiplication:\n",
            "90 114 138\n",
            "54 69 84\n",
            "18 24 30\n",
            "\n",
            "Element-wise multiplication:\n",
            "9 16 21\n",
            "24 25 24\n",
            "21 16 9\n",
            "\n",
            "Matrix equality check:\n",
            "False\n"
          ]
        }
      ]
    },
    {
      "cell_type": "markdown",
      "metadata": {
        "id": "PuXr8iqu8BP2"
      },
      "source": [
        "5. Overload python operators to appropriately use your functions in 4 and allow expressions like:\n",
        "    * 2*M  - scalar multiplication\n",
        "    * M*2 - reversed scalar multiplication\n",
        "    * M+N - addition\n",
        "    * M-N - subtraction\n",
        "    * M*N - matrix multiplicaation\n",
        "    * M==N - matrix equality\n",
        "    * M=N - matrix new assignment\n"
      ]
    },
    {
      "cell_type": "code",
      "source": [
        "def __mul__(self, other):\n",
        "  if isinstance(other, (int, float)):\n",
        "            # Perform scalar multiplication\n",
        "    return Matrix([[element * other for element in row] for row in self.matrix])\n",
        "  elif isinstance(other, Matrix):\n",
        "            # Perform matrix multiplication\n",
        "    if len(self.matrix[0]) != len(other.matrix):\n",
        "      raise ValueError(\"Matrix dimensions are not compatible for multiplication\")\n",
        "      result = [[sum(a * b for a, b in zip(row, col)) for col in zip(*other.matrix)] for row in self.matrix]\n",
        "      return Matrix(result)\n",
        "    else:\n",
        "      raise TypeError(\"Unsupported operand type for *: '{}' and '{}'\".format(type(self).__name__, type(other).__name__))\n",
        "\n",
        "\n",
        "Matrix.__mul__ = __mul__\n",
        "\n",
        "def __rmul__(self, other):\n",
        "        # Handle reversed multiplication (2 * M)\n",
        "        return self.__mul__(other)\n",
        "\n",
        "Matrix.__rmul__ = __rmul__\n",
        "\n",
        "def __add__(self, matrix): # addition\n",
        "  if isinstance(matrix, Matrix):\n",
        "    return self.add(matrix)\n",
        "  else:\n",
        "    raise ValueError(\"Unsupported operand type for +: {}\".format(type(matrix)))\n",
        "\n",
        "Matrix.__add__ = __add__\n",
        "\n",
        "def __sub__(self, other):\n",
        "  if isinstance(other, Matrix):\n",
        "    if self.shape() == other.shape():\n",
        "      return Matrix([[self.matrix[i][j] - other.matrix[i][j] for j in range(len(self.matrix[i]))] for i in range(len(self.matrix))])\n",
        "    else:\n",
        "      raise ValueError(\"Matrix subtraction is only supported for matrices of the same shape.\")\n",
        "  else:\n",
        "    raise TypeError(\"Unsupported operand type for -: '{}' and '{}'\".format(type(self).__name__, type(other).__name__))\n",
        "\n",
        "Matrix.__sub__ = __sub__\n",
        "\n",
        "def __eq__(self, matrix): # matrix equality\n",
        "  if isinstance(matrix, Matrix):\n",
        "    return self.equals(matrix)\n",
        "  else:\n",
        "    return False\n",
        "\n",
        "Matrix.__eq__ = __eq__"
      ],
      "metadata": {
        "id": "bSBi5vI0FVJY"
      },
      "execution_count": 22,
      "outputs": []
    },
    {
      "cell_type": "code",
      "source": [
        "M = Matrix([[1, 2, 3], [4, 5, 6], [7, 8, 9]])\n",
        "N = Matrix([[9, 8, 7], [6, 5, 4], [3, 2, 1]])\n",
        "\n",
        "print(\"Matrix M:\")\n",
        "print(M)\n",
        "\n",
        "print(\"\\nMatrix N:\")\n",
        "print(N)\n",
        "\n",
        "print(\"\\nScalar multiplication:\")\n",
        "# print(2 * M)\n",
        "print(M * 2)\n",
        "\n",
        "print(\"\\nMatrix addition:\")\n",
        "print(M + N)\n",
        "\n",
        "print(\"\\nMatrix subtraction:\")\n",
        "print(M - N)\n",
        "\n",
        "print(\"\\nMatrix equality check:\")\n",
        "print(M == N)\n",
        "\n",
        "M += N\n",
        "print(\"\\nIn-place addition:\")\n",
        "print(M)\n",
        "\n",
        "M *= 2\n",
        "print(\"\\nIn-place scalar multiplication:\")\n",
        "print(M)\n"
      ],
      "metadata": {
        "colab": {
          "base_uri": "https://localhost:8080/"
        },
        "id": "DwOGq1bq3XDh",
        "outputId": "f12464c8-2e25-4044-c624-bb6aabb3ff2f"
      },
      "execution_count": 24,
      "outputs": [
        {
          "output_type": "stream",
          "name": "stdout",
          "text": [
            "Matrix M:\n",
            "1 2 3\n",
            "4 5 6\n",
            "7 8 9\n",
            "\n",
            "Matrix N:\n",
            "9 8 7\n",
            "6 5 4\n",
            "3 2 1\n",
            "\n",
            "Scalar multiplication:\n",
            "2 4 6\n",
            "8 10 12\n",
            "14 16 18\n",
            "\n",
            "Matrix addition:\n",
            "10 10 10\n",
            "10 10 10\n",
            "10 10 10\n",
            "\n",
            "Matrix subtraction:\n",
            "-8 -6 -4\n",
            "-2 0 2\n",
            "4 6 8\n",
            "\n",
            "Matrix multiplication:\n",
            "\n",
            "Matrix equality check:\n",
            "False\n",
            "\n",
            "In-place addition:\n",
            "10 10 10\n",
            "10 10 10\n",
            "10 10 10\n",
            "\n",
            "In-place scalar multiplication:\n",
            "20 20 20\n",
            "20 20 20\n",
            "20 20 20\n"
          ]
        }
      ]
    },
    {
      "cell_type": "markdown",
      "metadata": {
        "id": "g2wXmIpB8BP2"
      },
      "source": [
        "6. Demonstrate the basic properties of matrices with your matrix class by creating two 2 by 2 example matrices using your Matrix class and illustrating the following:\n",
        "\n",
        "$$\n",
        "(AB)C=A(BC)\n",
        "$$\n",
        "$$\n",
        "A(B+C)=AB+AC\n",
        "$$\n",
        "$$\n",
        "AB\\neq BA\n",
        "$$\n",
        "$$\n",
        "AI=A\n",
        "$$"
      ]
    },
    {
      "cell_type": "code",
      "execution_count": null,
      "metadata": {
        "id": "RL91NOyZ8BP3"
      },
      "outputs": [],
      "source": [
        "A = Matrix([[1, 2], [3, 4]])\n",
        "B = Matrix([[5, 6], [7, 8]])\n",
        "C = Matrix([[9, 10], [11, 12]])\n",
        "\n",
        "# 1. Associative property\n",
        "result1 = (A * B) * C\n",
        "result2 = A * (B * C)\n",
        "\n",
        "# 2. Distributive property\n",
        "result3 = A * (B + C)\n",
        "result4 = A * B + A * C\n",
        "\n",
        "# 3. Non-commutative property\n",
        "result5 = A * B\n",
        "result6 = B * A\n",
        "\n",
        "# 4. Identity property\n",
        "I = Matrix([[1, 0], [0, 1]])\n",
        "result7 = A * I\n",
        "\n",
        "print(\"(AB)C = A(BC) :\", result1 == result2)\n",
        "print(\"A(B+C) = AB + AC :\", result3 == result4)\n",
        "print(\"AB ≠ BA :\", result5 != result6)\n",
        "print(\"AI = A :\", result7 == A)"
      ]
    },
    {
      "cell_type": "markdown",
      "source": [
        "## **Quiz 2:**\n",
        "Write a function make_deck that returns a list of all of the cards in a standard card deck. The return should be a list of tuples of pairs of suit and value. For example the 10 of Clubs would be ('Clubs', 10) and Queen of Hearts would be ('Hearts', 'Queen'). Recall that a deck has 52 cards, divided into 4 suits (Clubs, Diamonds, Hearts, and Spades), and that each suit has 13 cards: 2 to 10, Jack, Queen, King, and Ace. Submit your solution with Lab 5.\n",
        "#### Double loop and add to list."
      ],
      "metadata": {
        "id": "ZGDuZRWT6zHJ"
      }
    },
    {
      "cell_type": "code",
      "source": [
        "def make_deck():\n",
        "    suits = ['Clubs', 'Diamonds', 'Hearts', 'Spades']\n",
        "    values = ['2', '3', '4', '5', '6', '7', '8', '9', '10', 'Jack', 'Queen', 'King', 'Ace']\n",
        "    deck = [(suit, value) for suit in suits for value in values] # double loop and add to list\n",
        "    return deck\n",
        "\n",
        "deck = make_deck()\n",
        "print(deck)"
      ],
      "metadata": {
        "id": "ZExU3LVG6zRd",
        "colab": {
          "base_uri": "https://localhost:8080/"
        },
        "outputId": "938f7522-a11b-480e-9e8d-691edd2fc150"
      },
      "execution_count": 11,
      "outputs": [
        {
          "output_type": "stream",
          "name": "stdout",
          "text": [
            "[('Clubs', '2'), ('Clubs', '3'), ('Clubs', '4'), ('Clubs', '5'), ('Clubs', '6'), ('Clubs', '7'), ('Clubs', '8'), ('Clubs', '9'), ('Clubs', '10'), ('Clubs', 'Jack'), ('Clubs', 'Queen'), ('Clubs', 'King'), ('Clubs', 'Ace'), ('Diamonds', '2'), ('Diamonds', '3'), ('Diamonds', '4'), ('Diamonds', '5'), ('Diamonds', '6'), ('Diamonds', '7'), ('Diamonds', '8'), ('Diamonds', '9'), ('Diamonds', '10'), ('Diamonds', 'Jack'), ('Diamonds', 'Queen'), ('Diamonds', 'King'), ('Diamonds', 'Ace'), ('Hearts', '2'), ('Hearts', '3'), ('Hearts', '4'), ('Hearts', '5'), ('Hearts', '6'), ('Hearts', '7'), ('Hearts', '8'), ('Hearts', '9'), ('Hearts', '10'), ('Hearts', 'Jack'), ('Hearts', 'Queen'), ('Hearts', 'King'), ('Hearts', 'Ace'), ('Spades', '2'), ('Spades', '3'), ('Spades', '4'), ('Spades', '5'), ('Spades', '6'), ('Spades', '7'), ('Spades', '8'), ('Spades', '9'), ('Spades', '10'), ('Spades', 'Jack'), ('Spades', 'Queen'), ('Spades', 'King'), ('Spades', 'Ace')]\n"
          ]
        }
      ]
    }
  ],
  "metadata": {
    "kernelspec": {
      "display_name": "Python 3 (ipykernel)",
      "language": "python",
      "name": "python3"
    },
    "language_info": {
      "codemirror_mode": {
        "name": "ipython",
        "version": 3
      },
      "file_extension": ".py",
      "mimetype": "text/x-python",
      "name": "python",
      "nbconvert_exporter": "python",
      "pygments_lexer": "ipython3",
      "version": "3.9.6"
    },
    "colab": {
      "provenance": []
    }
  },
  "nbformat": 4,
  "nbformat_minor": 0
}