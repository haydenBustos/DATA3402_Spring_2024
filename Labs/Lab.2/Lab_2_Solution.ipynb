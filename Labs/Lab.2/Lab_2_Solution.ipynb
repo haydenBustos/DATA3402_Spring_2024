{
  "cells": [
    {
      "cell_type": "markdown",
      "metadata": {
        "id": "UzmsJzP4DrqY"
      },
      "source": [
        "## Lab 2- Tic Tac Toe\n",
        "\n",
        "In this lab your will build a n x n Tic Tac Toe game. As you do the exercises, make sure your solutions work for any size Tic Tac Toe game."
      ]
    },
    {
      "cell_type": "markdown",
      "metadata": {
        "id": "TPu276MzDrqd"
      },
      "source": [
        "*Exercise 1:* Write a function that creates an n by n matrix (of list of lists) which will represent the state of a Tie Tac Toe game. Let 0, 1, and 2 represent empty, \"X\", and \"O\", respectively.\n"
      ]
    },
    {
      "cell_type": "code",
      "execution_count": 1,
      "metadata": {
        "collapsed": true,
        "id": "cOGO0QtSDrqe"
      },
      "outputs": [],
      "source": [
        "empty = 0\n",
        "player_1 = 1\n",
        "player_2 = 'X'\n",
        "\n",
        "def matrix_time(n):\n",
        "  board = [[empty]*n for _ in range(n)]\n",
        "  for i in board:\n",
        "    print(i)"
      ]
    },
    {
      "cell_type": "code",
      "source": [
        "matrix_time(3)"
      ],
      "metadata": {
        "colab": {
          "base_uri": "https://localhost:8080/"
        },
        "id": "Lnb5s9YOELR-",
        "outputId": "16796ea8-3ce9-4e5e-92bc-1a136fc1fb62"
      },
      "execution_count": 2,
      "outputs": [
        {
          "output_type": "stream",
          "name": "stdout",
          "text": [
            "[0, 0, 0]\n",
            "[0, 0, 0]\n",
            "[0, 0, 0]\n"
          ]
        }
      ]
    },
    {
      "cell_type": "markdown",
      "metadata": {
        "id": "l5FAU-IbDrqg"
      },
      "source": [
        "*Exercise 2:* Write a function that takes 2 integers `n` and `m` as input and draws a `n` by `m` game board. For example the following is a 3x3 board:\n",
        "```\n",
        "   --- --- ---\n",
        "  |   |   |   |\n",
        "   --- --- ---  \n",
        "  |   |   |   |\n",
        "   --- --- ---  \n",
        "  |   |   |   |\n",
        "   --- --- ---\n",
        "   ```"
      ]
    },
    {
      "cell_type": "code",
      "execution_count": 3,
      "metadata": {
        "collapsed": true,
        "id": "N2Yx27c9Drqg"
      },
      "outputs": [],
      "source": [
        "def game_board(n,m):\n",
        "  for i in range(m):\n",
        "    print(\" ---\"* n)\n",
        "    print(\"|   \"* (n+1))\n",
        "  print(\" ---\"* n)"
      ]
    },
    {
      "cell_type": "code",
      "execution_count": 4,
      "metadata": {
        "collapsed": true,
        "colab": {
          "base_uri": "https://localhost:8080/"
        },
        "id": "-nu2rYQcDrqh",
        "outputId": "c0f9ecbb-0106-41b9-bba1-52a2e4b2ac25"
      },
      "outputs": [
        {
          "output_type": "stream",
          "name": "stdout",
          "text": [
            " --- --- --- --- --- ---\n",
            "|   |   |   |   |   |   |   \n",
            " --- --- --- --- --- ---\n",
            "|   |   |   |   |   |   |   \n",
            " --- --- --- --- --- ---\n",
            "|   |   |   |   |   |   |   \n",
            " --- --- --- --- --- ---\n",
            "|   |   |   |   |   |   |   \n",
            " --- --- --- --- --- ---\n"
          ]
        }
      ],
      "source": [
        "game_board(6,4)"
      ]
    },
    {
      "cell_type": "markdown",
      "metadata": {
        "id": "Rf7TBE8kDrqi"
      },
      "source": [
        "*Exercise 3:* Modify exercise 2, so that it takes a matrix of the form from exercise 1 and draws a tic-tac-tie board with \"X\"s and \"O\"s.  "
      ]
    },
    {
      "cell_type": "code",
      "execution_count": 5,
      "metadata": {
        "collapsed": true,
        "id": "e3z_5ujvDrqi"
      },
      "outputs": [],
      "source": [
        "def fresh_game_board(board1):\n",
        "  n = len(board1)                                                               # Had to change 'n' from a list to an integer.\n",
        "  for i in range(n):\n",
        "    print(\" ---\" *n)\n",
        "\n",
        "    for j in range(n):\n",
        "      print(f\"| {board1[i][j]} \", end = \"\")\n",
        "    print(\"|\")\n",
        "\n",
        "  print(\" ---\" *n)\n",
        "\n",
        "board = [\n",
        "    ['X', 'O', 'X'],\n",
        "    ['O', 'X', 'O'],\n",
        "    ['X', 'O', 'X']]"
      ]
    },
    {
      "cell_type": "code",
      "execution_count": 6,
      "metadata": {
        "collapsed": true,
        "colab": {
          "base_uri": "https://localhost:8080/"
        },
        "id": "pLcbU7qCDrqk",
        "outputId": "774499ba-8d26-47ac-b39b-bad5cbd72485"
      },
      "outputs": [
        {
          "output_type": "stream",
          "name": "stdout",
          "text": [
            " --- --- ---\n",
            "| X | O | X |\n",
            " --- --- ---\n",
            "| O | X | O |\n",
            " --- --- ---\n",
            "| X | O | X |\n",
            " --- --- ---\n"
          ]
        }
      ],
      "source": [
        "fresh_game_board(board)"
      ]
    },
    {
      "cell_type": "markdown",
      "metadata": {
        "id": "AvEsAZcpDrqk"
      },
      "source": [
        "*Exercise 4:* Write a function that takes a `n` by `n` matrix representing a tic-tac-toe game, and returns -1, 0, 1, or 2 indicating the game is incomplete, the game is a draw, player 1 has won, or player 2 has one, respectively. Here are some example inputs you can use to test your code:"
      ]
    },
    {
      "cell_type": "code",
      "execution_count": 7,
      "metadata": {
        "collapsed": true,
        "id": "y3oMBaZODrql"
      },
      "outputs": [],
      "source": [
        "def who_is_winning(gameboard):\n",
        "    n = len(gameboard)\n",
        "\n",
        "    for row in gameboard:\n",
        "        if all(cell == row[0] and cell != \"O\" for cell in row):\n",
        "            return row[0]\n",
        "\n",
        "    for col in range(n):\n",
        "        if all(gameboard[row][col] == gameboard[0][col] and gameboard[row][col] != \" \" for row in range(n)):\n",
        "            return gameboard[0][col]\n",
        "\n",
        "    if all(gameboard[i][i] == gameboard[0][0] and gameboard[i][i] != \" \" for i in range(n)):\n",
        "        return gameboard[0][0]\n",
        "\n",
        "    if all(gameboard[i][n - 1 - i] == gameboard[0][n - 1] and gameboard[i][n - 1 - i] != \" \" for i in range(n)):\n",
        "        return gameboard[0][n - 1]\n",
        "\n",
        "    for row in gameboard:\n",
        "        for cell in row:\n",
        "            if cell == 0:\n",
        "                return -1\n",
        "\n",
        "    return 0"
      ]
    },
    {
      "cell_type": "code",
      "source": [
        "def who_is_winning1(gameboard):\n",
        "    n = len(gameboard)\n",
        "\n",
        "    for row in gameboard:\n",
        "        if all(cell == row[0] and cell in [\"O\", \"X\"] for cell in row):\n",
        "            return row[0]\n",
        "\n",
        "    for col in range(n):\n",
        "        if all(gameboard[row][col] == gameboard[0][col] and gameboard[row][col] in [\"O\", \"X\"] for row in range(n)):\n",
        "            return gameboard[0][col]\n",
        "\n",
        "    if all(gameboard[i][i] == gameboard[0][0] and gameboard[i][i] in [\"O\", \"X\"] for i in range(n)):\n",
        "        return gameboard[0][0]\n",
        "\n",
        "    if all(gameboard[i][n - 1 - i] == gameboard[0][n - 1] and gameboard[i][n - 1 - i] in [\"O\", \"X\"] for i in range(n)):\n",
        "        return gameboard[0][n - 1]\n",
        "\n",
        "    for row in gameboard:\n",
        "        for cell in row:\n",
        "            if cell == \" \":\n",
        "                return -1\n",
        "\n",
        "    return 0\n"
      ],
      "metadata": {
        "id": "dbyRnYt-LAth"
      },
      "execution_count": 8,
      "outputs": []
    },
    {
      "cell_type": "code",
      "execution_count": 9,
      "metadata": {
        "collapsed": true,
        "id": "N9bEdw2pDrql"
      },
      "outputs": [],
      "source": [
        "winner_is_2 = [[2, 2, 0],\n",
        "\t[2, 1, 0],\n",
        "\t[2, 1, 1]]\n",
        "\n",
        "winner_is_1 = [[1, 2, 0],\n",
        "\t[2, 1, 0],\n",
        "\t[2, 1, 1]]\n",
        "\n",
        "winner_is_also_1 = [[0, 1, 0],\n",
        "\t[2, 1, 0],\n",
        "\t[2, 1, 1]]\n",
        "\n",
        "no_winner = [[1, 2, 0],\n",
        "\t[2, 1, 0],\n",
        "\t[2, 1, 2]]\n",
        "\n",
        "also_no_winner = [[1, 2, 0],\n",
        "\t[2, 1, 0],\n",
        "\t[2, 1, 0]]\n",
        "\n",
        "test_board = [[0, 0, 0],\n",
        "\t[0, 0, 0],\n",
        "\t[0, 0, 0]]"
      ]
    },
    {
      "cell_type": "code",
      "execution_count": 10,
      "metadata": {
        "collapsed": true,
        "id": "PocEaaTbDrql",
        "colab": {
          "base_uri": "https://localhost:8080/"
        },
        "outputId": "d187c7ec-8324-4a90-db9c-cb97c379a320"
      },
      "outputs": [
        {
          "output_type": "execute_result",
          "data": {
            "text/plain": [
              "1"
            ]
          },
          "metadata": {},
          "execution_count": 10
        }
      ],
      "source": [
        "who_is_winning(winner_is_1)"
      ]
    },
    {
      "cell_type": "markdown",
      "metadata": {
        "id": "bGPgcnXpDrql"
      },
      "source": [
        "*Exercise 5:* Write a function that takes a game board, player number, and `(x,y)` coordinates and places \"X\" or \"O\" in the correct location of the game board. Make sure that you only allow filling previously empty locations. Return `True` or `False` to indicate successful placement of \"X\" or \"O\"."
      ]
    },
    {
      "cell_type": "code",
      "execution_count": 11,
      "metadata": {
        "collapsed": true,
        "id": "OdCp-SdGDrqm"
      },
      "outputs": [],
      "source": [
        "def place_x_o(board2, player, location):\n",
        "  x,y = location\n",
        "\n",
        "  if board2[x][y] == ' ':\n",
        "    board2[x][y] = 'X' if player == 1 else 'O'\n",
        "    #print(f\"Player {player} makes a move.\")\n",
        "    #fresh_game_board(board2)\n",
        "    return True\n",
        "  else:\n",
        "    print(\"Player 2 couldn't make a move.\")\n",
        "  return False\n",
        "\n",
        "empty_board = [[' ', ' ', ' '],\n",
        "         [' ', ' ', ' '],\n",
        "         [' ', ' ', ' ']]\n"
      ]
    },
    {
      "cell_type": "code",
      "execution_count": 12,
      "metadata": {
        "collapsed": true,
        "id": "V8zKqWvUDrqm",
        "colab": {
          "base_uri": "https://localhost:8080/"
        },
        "outputId": "638306de-c761-49c3-8756-3aae55d1725b"
      },
      "outputs": [
        {
          "output_type": "execute_result",
          "data": {
            "text/plain": [
              "True"
            ]
          },
          "metadata": {},
          "execution_count": 12
        }
      ],
      "source": [
        "place_x_o(empty_board, player_2, (0,0))"
      ]
    },
    {
      "cell_type": "markdown",
      "metadata": {
        "id": "iokubBFTDrqm"
      },
      "source": [
        "*Exercise 6:* Modify Exercise 4 to show column and row labels so that players can specify location using \"A2\" or \"C1\"."
      ]
    },
    {
      "cell_type": "code",
      "execution_count": 13,
      "metadata": {
        "collapsed": true,
        "id": "aiaC2_iqDrqm"
      },
      "outputs": [],
      "source": [
        "def fresh_game_board(board1):\n",
        "    n = len(board1)  # Had to change 'n' from a list to an integer.\n",
        "    column_labels = ['A', 'B', 'C', 'D', 'E']\n",
        "\n",
        "    # Print column labels\n",
        "    print(\"   \", end=\"\")\n",
        "    for col in range(1, n + 1):\n",
        "        print(f\" {col}  \", end=\"\")\n",
        "    print()\n",
        "\n",
        "    for i in range(n):\n",
        "        print(\" \",\" ---\" * n)\n",
        "\n",
        "        # Print row label\n",
        "        print(f\"{column_labels[i]} \", end=\"\")\n",
        "\n",
        "        for j in range(n):\n",
        "            print(f\"| {board1[i][j]} \", end=\"\")\n",
        "        print(\"|\")\n",
        "\n",
        "    print(\" \",\" ---\" * n)"
      ]
    },
    {
      "cell_type": "code",
      "source": [
        "empty_board = [\n",
        "    [' ', ' ', ' '],\n",
        "    [' ', ' ', ' '],\n",
        "    [' ', ' ', ' ']]"
      ],
      "metadata": {
        "id": "5eqdHRv00CRi"
      },
      "execution_count": 14,
      "outputs": []
    },
    {
      "cell_type": "code",
      "execution_count": 15,
      "metadata": {
        "collapsed": true,
        "id": "Sj0tvasUDrqm",
        "colab": {
          "base_uri": "https://localhost:8080/"
        },
        "outputId": "3d56514a-4ac0-4d88-b781-db328578eeda"
      },
      "outputs": [
        {
          "output_type": "stream",
          "name": "stdout",
          "text": [
            "    1   2   3  \n",
            "   --- --- ---\n",
            "A |   |   |   |\n",
            "   --- --- ---\n",
            "B |   |   |   |\n",
            "   --- --- ---\n",
            "C |   |   |   |\n",
            "   --- --- ---\n"
          ]
        }
      ],
      "source": [
        "fresh_game_board(empty_board)"
      ]
    },
    {
      "cell_type": "markdown",
      "metadata": {
        "id": "VFMlQvv5Drqm"
      },
      "source": [
        "*Exercise 7:* Write a function that takes a board, player number, and location specified as in exercise 6 and then calls exercise 5 to correctly modify the board.  "
      ]
    },
    {
      "cell_type": "code",
      "source": [
        "def make_move(board, player, location):\n",
        "    location = location.upper()\n",
        "    column_labels = ['A', 'B', 'C', 'D', 'E']\n",
        "\n",
        "    if len(location) == 2 and location[0] in column_labels and location[1].isdigit():\n",
        "        y = int(location[1]) - 1\n",
        "        x = column_labels.index(location[0])\n",
        "    while True:\n",
        "        if board[x][y] == ' ':\n",
        "            board[x][y] = 'X' if player == 1 else 'O'\n",
        "            print(f\"Success!\")\n",
        "            fresh_game_board(board)\n",
        "            return True\n",
        "        else:\n",
        "            print(f\"Place taken. Try again, Player {player}.\")\n",
        "            break\n",
        "    else:\n",
        "        print(f\"Poor input. Try again!\")\n",
        "\n",
        "    return False"
      ],
      "metadata": {
        "id": "IsJ1vCWC3ckZ"
      },
      "execution_count": 16,
      "outputs": []
    },
    {
      "cell_type": "code",
      "source": [
        "empty_board = [\n",
        "    [' ', ' ', ' '],\n",
        "    [' ', ' ', ' '],\n",
        "    [' ', ' ', ' ']]"
      ],
      "metadata": {
        "id": "XTTrdXBC7jPU"
      },
      "execution_count": 17,
      "outputs": []
    },
    {
      "cell_type": "code",
      "execution_count": 18,
      "metadata": {
        "collapsed": true,
        "id": "tPCJiBqIDrqn",
        "colab": {
          "base_uri": "https://localhost:8080/"
        },
        "outputId": "f0fb010b-7da8-491f-a47d-d6d16a88ad03"
      },
      "outputs": [
        {
          "output_type": "stream",
          "name": "stdout",
          "text": [
            "Success!\n",
            "    1   2   3  \n",
            "   --- --- ---\n",
            "A | X |   |   |\n",
            "   --- --- ---\n",
            "B |   |   |   |\n",
            "   --- --- ---\n",
            "C |   |   |   |\n",
            "   --- --- ---\n"
          ]
        },
        {
          "output_type": "execute_result",
          "data": {
            "text/plain": [
              "True"
            ]
          },
          "metadata": {},
          "execution_count": 18
        }
      ],
      "source": [
        "make_move(empty_board, 1, 'A1')\n",
        "\n",
        "#make_move(empty_board, 2, 'B2')"
      ]
    },
    {
      "cell_type": "markdown",
      "metadata": {
        "id": "hY030cxiDrqn"
      },
      "source": [
        "*Exercise 8:* Write a function is called with a board and player number, takes input from the player using python's `input`, and modifies the board using your function from exercise 7. Note that you should keep asking for input until you have gotten a valid input that results in a valid move."
      ]
    },
    {
      "cell_type": "code",
      "execution_count": 19,
      "metadata": {
        "collapsed": true,
        "id": "OMXKLUe9Drqn"
      },
      "outputs": [],
      "source": [
        "def keep_asking(board, player):\n",
        "    while True:\n",
        "      user_input = input(f\"Player {player}'s move: \")\n",
        "      if make_move(board, player, user_input):\n",
        "        break"
      ]
    },
    {
      "cell_type": "code",
      "execution_count": 20,
      "metadata": {
        "collapsed": true,
        "id": "s_lxz_UzDrqn"
      },
      "outputs": [],
      "source": [
        "#keep_asking(empty_board, 1)"
      ]
    },
    {
      "cell_type": "markdown",
      "metadata": {
        "id": "bxC9YtZPDrqo"
      },
      "source": [
        "*Exercise 9:* Use all of the previous exercises to implement a full tic-tac-toe game, where an appropriate board is drawn, 2 players are repeatedly asked for a location coordinates of where they wish to place a mark, and the game status is checked until a player wins or a draw occurs."
      ]
    },
    {
      "cell_type": "code",
      "execution_count": 36,
      "metadata": {
        "collapsed": true,
        "id": "VGMYZqIVDrqo"
      },
      "outputs": [],
      "source": [
        "def TicTacToe():\n",
        "    print(\"Welcome to Tic Tac Toe!\")\n",
        "    print(\"----------------------\")\n",
        "\n",
        "    new_board = [\n",
        "        [' ', ' ', ' '],\n",
        "        [' ', ' ', ' '],\n",
        "        [' ', ' ', ' ']]\n",
        "\n",
        "    while True:\n",
        "        keep_asking(new_board, 1)\n",
        "        winner = who_is_winning(new_board)\n",
        "\n",
        "        if winner == \"O\" or winner == \"X\":\n",
        "            break\n",
        "        elif winner == -1:\n",
        "            print(\"It's a draw!\")\n",
        "        keep_asking(new_board, 2)\n",
        "        winner = who_is_winning(new_board)\n",
        "\n",
        "        if winner == \"O\" or winner == \"X\":\n",
        "            break\n",
        "        elif winner == -1:\n",
        "            print(\"It's a draw!\")\n",
        "            break\n",
        "\n",
        "    print(f\"Player {winner} wins!\")"
      ]
    },
    {
      "cell_type": "code",
      "execution_count": null,
      "metadata": {
        "collapsed": true,
        "id": "hUcKfguFDrqo"
      },
      "outputs": [],
      "source": [
        "#TicTacToe()"
      ]
    },
    {
      "cell_type": "markdown",
      "metadata": {
        "id": "aBWd7v_YDrqo"
      },
      "source": [
        "*Exercise 10:* Test that your game works for 5x5 Tic Tac Toe.  "
      ]
    },
    {
      "cell_type": "code",
      "execution_count": 34,
      "metadata": {
        "collapsed": true,
        "id": "PvqEb2pvDrqo"
      },
      "outputs": [],
      "source": [
        "def TicTacToe5():\n",
        "    print(\"Welcome to Tic Tac Toe!\")\n",
        "    print(\"----------------------\")\n",
        "\n",
        "    fiven_board = [\n",
        "    [' ', ' ', ' ', ' ', ' '],\n",
        "    [' ', ' ', ' ', ' ', ' '],\n",
        "    [' ', ' ', ' ', ' ', ' '],\n",
        "    [' ', ' ', ' ', ' ', ' '],\n",
        "    [' ', ' ', ' ', ' ', ' '],]\n",
        "\n",
        "    while True:\n",
        "        keep_asking(fiven_board, 1)\n",
        "        winner = who_is_winning(fiven_board)\n",
        "\n",
        "        if winner == \"O\" or winner == \"X\":\n",
        "            break\n",
        "        elif winner == -1:\n",
        "            print(\"It's a draw!\")\n",
        "        keep_asking(fiven_board, 2)\n",
        "        winner = who_is_winning(fiven_board)\n",
        "\n",
        "        if winner == \"O\" or winner == \"X\":\n",
        "            break\n",
        "        elif winner == -1:\n",
        "            print(\"It's a draw!\")\n",
        "            break\n",
        "\n",
        "    print(f\"Player {winner} wins!\")"
      ]
    },
    {
      "cell_type": "code",
      "source": [
        "TicTacToe5()"
      ],
      "metadata": {
        "id": "jSn7-roglDHu",
        "colab": {
          "base_uri": "https://localhost:8080/",
          "height": 616
        },
        "outputId": "35652a7a-a799-40d8-dc09-dec4a3c036a3"
      },
      "execution_count": 35,
      "outputs": [
        {
          "output_type": "stream",
          "name": "stdout",
          "text": [
            "Welcome to Tic Tac Toe!\n",
            "----------------------\n",
            "Player 1's move: a1\n",
            "Success!\n",
            "    1   2   3   4   5  \n",
            "   --- --- --- --- ---\n",
            "A | X |   |   |   |   |\n",
            "   --- --- --- --- ---\n",
            "B |   |   |   |   |   |\n",
            "   --- --- --- --- ---\n",
            "C |   |   |   |   |   |\n",
            "   --- --- --- --- ---\n",
            "D |   |   |   |   |   |\n",
            "   --- --- --- --- ---\n",
            "E |   |   |   |   |   |\n",
            "   --- --- --- --- ---\n"
          ]
        },
        {
          "output_type": "error",
          "ename": "KeyboardInterrupt",
          "evalue": "Interrupted by user",
          "traceback": [
            "\u001b[0;31m---------------------------------------------------------------------------\u001b[0m",
            "\u001b[0;31mKeyboardInterrupt\u001b[0m                         Traceback (most recent call last)",
            "\u001b[0;32m<ipython-input-35-8284eabb24f1>\u001b[0m in \u001b[0;36m<cell line: 1>\u001b[0;34m()\u001b[0m\n\u001b[0;32m----> 1\u001b[0;31m \u001b[0mTicTacToe5\u001b[0m\u001b[0;34m(\u001b[0m\u001b[0;34m)\u001b[0m\u001b[0;34m\u001b[0m\u001b[0;34m\u001b[0m\u001b[0m\n\u001b[0m",
            "\u001b[0;32m<ipython-input-34-7069d0d6d10a>\u001b[0m in \u001b[0;36mTicTacToe5\u001b[0;34m()\u001b[0m\n\u001b[1;32m     18\u001b[0m         \u001b[0;32melif\u001b[0m \u001b[0mwinner\u001b[0m \u001b[0;34m==\u001b[0m \u001b[0;34m-\u001b[0m\u001b[0;36m1\u001b[0m\u001b[0;34m:\u001b[0m\u001b[0;34m\u001b[0m\u001b[0;34m\u001b[0m\u001b[0m\n\u001b[1;32m     19\u001b[0m             \u001b[0mprint\u001b[0m\u001b[0;34m(\u001b[0m\u001b[0;34m\"It's a draw!\"\u001b[0m\u001b[0;34m)\u001b[0m\u001b[0;34m\u001b[0m\u001b[0;34m\u001b[0m\u001b[0m\n\u001b[0;32m---> 20\u001b[0;31m         \u001b[0mkeep_asking\u001b[0m\u001b[0;34m(\u001b[0m\u001b[0mfiven_board\u001b[0m\u001b[0;34m,\u001b[0m \u001b[0;36m2\u001b[0m\u001b[0;34m)\u001b[0m\u001b[0;34m\u001b[0m\u001b[0;34m\u001b[0m\u001b[0m\n\u001b[0m\u001b[1;32m     21\u001b[0m         \u001b[0mwinner\u001b[0m \u001b[0;34m=\u001b[0m \u001b[0mwho_is_winning\u001b[0m\u001b[0;34m(\u001b[0m\u001b[0mfiven_board\u001b[0m\u001b[0;34m)\u001b[0m\u001b[0;34m\u001b[0m\u001b[0;34m\u001b[0m\u001b[0m\n\u001b[1;32m     22\u001b[0m \u001b[0;34m\u001b[0m\u001b[0m\n",
            "\u001b[0;32m<ipython-input-19-4f0748cd5485>\u001b[0m in \u001b[0;36mkeep_asking\u001b[0;34m(board, player)\u001b[0m\n\u001b[1;32m      1\u001b[0m \u001b[0;32mdef\u001b[0m \u001b[0mkeep_asking\u001b[0m\u001b[0;34m(\u001b[0m\u001b[0mboard\u001b[0m\u001b[0;34m,\u001b[0m \u001b[0mplayer\u001b[0m\u001b[0;34m)\u001b[0m\u001b[0;34m:\u001b[0m\u001b[0;34m\u001b[0m\u001b[0;34m\u001b[0m\u001b[0m\n\u001b[1;32m      2\u001b[0m     \u001b[0;32mwhile\u001b[0m \u001b[0;32mTrue\u001b[0m\u001b[0;34m:\u001b[0m\u001b[0;34m\u001b[0m\u001b[0;34m\u001b[0m\u001b[0m\n\u001b[0;32m----> 3\u001b[0;31m       \u001b[0muser_input\u001b[0m \u001b[0;34m=\u001b[0m \u001b[0minput\u001b[0m\u001b[0;34m(\u001b[0m\u001b[0;34mf\"Player {player}'s move: \"\u001b[0m\u001b[0;34m)\u001b[0m\u001b[0;34m\u001b[0m\u001b[0;34m\u001b[0m\u001b[0m\n\u001b[0m\u001b[1;32m      4\u001b[0m       \u001b[0;32mif\u001b[0m \u001b[0mmake_move\u001b[0m\u001b[0;34m(\u001b[0m\u001b[0mboard\u001b[0m\u001b[0;34m,\u001b[0m \u001b[0mplayer\u001b[0m\u001b[0;34m,\u001b[0m \u001b[0muser_input\u001b[0m\u001b[0;34m)\u001b[0m\u001b[0;34m:\u001b[0m\u001b[0;34m\u001b[0m\u001b[0;34m\u001b[0m\u001b[0m\n\u001b[1;32m      5\u001b[0m         \u001b[0;32mbreak\u001b[0m\u001b[0;34m\u001b[0m\u001b[0;34m\u001b[0m\u001b[0m\n",
            "\u001b[0;32m/usr/local/lib/python3.10/dist-packages/ipykernel/kernelbase.py\u001b[0m in \u001b[0;36mraw_input\u001b[0;34m(self, prompt)\u001b[0m\n\u001b[1;32m    849\u001b[0m                 \u001b[0;34m\"raw_input was called, but this frontend does not support input requests.\"\u001b[0m\u001b[0;34m\u001b[0m\u001b[0;34m\u001b[0m\u001b[0m\n\u001b[1;32m    850\u001b[0m             )\n\u001b[0;32m--> 851\u001b[0;31m         return self._input_request(str(prompt),\n\u001b[0m\u001b[1;32m    852\u001b[0m             \u001b[0mself\u001b[0m\u001b[0;34m.\u001b[0m\u001b[0m_parent_ident\u001b[0m\u001b[0;34m,\u001b[0m\u001b[0;34m\u001b[0m\u001b[0;34m\u001b[0m\u001b[0m\n\u001b[1;32m    853\u001b[0m             \u001b[0mself\u001b[0m\u001b[0;34m.\u001b[0m\u001b[0m_parent_header\u001b[0m\u001b[0;34m,\u001b[0m\u001b[0;34m\u001b[0m\u001b[0;34m\u001b[0m\u001b[0m\n",
            "\u001b[0;32m/usr/local/lib/python3.10/dist-packages/ipykernel/kernelbase.py\u001b[0m in \u001b[0;36m_input_request\u001b[0;34m(self, prompt, ident, parent, password)\u001b[0m\n\u001b[1;32m    893\u001b[0m             \u001b[0;32mexcept\u001b[0m \u001b[0mKeyboardInterrupt\u001b[0m\u001b[0;34m:\u001b[0m\u001b[0;34m\u001b[0m\u001b[0;34m\u001b[0m\u001b[0m\n\u001b[1;32m    894\u001b[0m                 \u001b[0;31m# re-raise KeyboardInterrupt, to truncate traceback\u001b[0m\u001b[0;34m\u001b[0m\u001b[0;34m\u001b[0m\u001b[0m\n\u001b[0;32m--> 895\u001b[0;31m                 \u001b[0;32mraise\u001b[0m \u001b[0mKeyboardInterrupt\u001b[0m\u001b[0;34m(\u001b[0m\u001b[0;34m\"Interrupted by user\"\u001b[0m\u001b[0;34m)\u001b[0m \u001b[0;32mfrom\u001b[0m \u001b[0;32mNone\u001b[0m\u001b[0;34m\u001b[0m\u001b[0;34m\u001b[0m\u001b[0m\n\u001b[0m\u001b[1;32m    896\u001b[0m             \u001b[0;32mexcept\u001b[0m \u001b[0mException\u001b[0m \u001b[0;32mas\u001b[0m \u001b[0me\u001b[0m\u001b[0;34m:\u001b[0m\u001b[0;34m\u001b[0m\u001b[0;34m\u001b[0m\u001b[0m\n\u001b[1;32m    897\u001b[0m                 \u001b[0mself\u001b[0m\u001b[0;34m.\u001b[0m\u001b[0mlog\u001b[0m\u001b[0;34m.\u001b[0m\u001b[0mwarning\u001b[0m\u001b[0;34m(\u001b[0m\u001b[0;34m\"Invalid Message:\"\u001b[0m\u001b[0;34m,\u001b[0m \u001b[0mexc_info\u001b[0m\u001b[0;34m=\u001b[0m\u001b[0;32mTrue\u001b[0m\u001b[0;34m)\u001b[0m\u001b[0;34m\u001b[0m\u001b[0;34m\u001b[0m\u001b[0m\n",
            "\u001b[0;31mKeyboardInterrupt\u001b[0m: Interrupted by user"
          ]
        }
      ]
    },
    {
      "cell_type": "markdown",
      "metadata": {
        "id": "H6wcRKTPDrqo"
      },
      "source": [
        "*Exercise 11:* (Advanced / Challenge) Develop a version of the game where one player is the computer. Note that you don't need to do an extensive seach for the best move. You can have the computer simply protect against loosing and otherwise try to win with straight or diagonal patterns."
      ]
    },
    {
      "cell_type": "code",
      "execution_count": 26,
      "metadata": {
        "collapsed": true,
        "id": "EJ5Ir8lWDrqp"
      },
      "outputs": [],
      "source": [
        "# Write you solution here"
      ]
    },
    {
      "cell_type": "code",
      "execution_count": 27,
      "metadata": {
        "collapsed": true,
        "id": "hGTKyI1FDrqp"
      },
      "outputs": [],
      "source": [
        "# Test your solution here"
      ]
    }
  ],
  "metadata": {
    "kernelspec": {
      "display_name": "Python 3 (ipykernel)",
      "language": "python",
      "name": "python3"
    },
    "language_info": {
      "codemirror_mode": {
        "name": "ipython",
        "version": 3
      },
      "file_extension": ".py",
      "mimetype": "text/x-python",
      "name": "python",
      "nbconvert_exporter": "python",
      "pygments_lexer": "ipython3",
      "version": "3.9.6"
    },
    "colab": {
      "provenance": []
    }
  },
  "nbformat": 4,
  "nbformat_minor": 0
}