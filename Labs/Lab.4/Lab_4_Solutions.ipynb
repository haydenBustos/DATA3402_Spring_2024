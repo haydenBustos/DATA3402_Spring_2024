{
  "cells": [
    {
      "cell_type": "markdown",
      "metadata": {
        "id": "uxqG4zx3vilC"
      },
      "source": [
        "# Lab 4- Object Oriented Programming\n",
        "\n",
        "For all of the exercises below, make sure you provide tests of your solutions.\n"
      ]
    },
    {
      "cell_type": "markdown",
      "metadata": {
        "id": "wFzkAKmGvilI"
      },
      "source": [
        "1. Write a \"counter\" class that can be incremented up to a specified maximum value, will print an error if an attempt is made to increment beyond that value, and allows reseting the counter."
      ]
    },
    {
      "cell_type": "code",
      "execution_count": 67,
      "metadata": {
        "id": "09ct3v4ivilJ"
      },
      "outputs": [],
      "source": [
        "class counter:\n",
        "  def __init__(self, max_count):\n",
        "    self.max_count = max_count\n",
        "    self.value = 0\n",
        "\n",
        "  def increment(self):\n",
        "    if self.value < self.max_count:\n",
        "      self.value +=1\n",
        "    else:\n",
        "      print(\"You have surpassed your limit.\")\n",
        "\n",
        "  def reset(self):\n",
        "    self.value = 0\n",
        "\n",
        "  def show(self):\n",
        "    print(self.value)"
      ]
    },
    {
      "cell_type": "code",
      "source": [
        "count = counter(10)"
      ],
      "metadata": {
        "id": "JVivc_OVken8"
      },
      "execution_count": 68,
      "outputs": []
    },
    {
      "cell_type": "code",
      "source": [
        "count.increment()"
      ],
      "metadata": {
        "id": "KIczhyp-fMNE"
      },
      "execution_count": 69,
      "outputs": []
    },
    {
      "cell_type": "code",
      "source": [
        "count.value"
      ],
      "metadata": {
        "colab": {
          "base_uri": "https://localhost:8080/"
        },
        "id": "HKQoj2j-gbcd",
        "outputId": "56857e1e-957f-4ede-b88e-18794cc53a4f"
      },
      "execution_count": 70,
      "outputs": [
        {
          "output_type": "execute_result",
          "data": {
            "text/plain": [
              "1"
            ]
          },
          "metadata": {},
          "execution_count": 70
        }
      ]
    },
    {
      "cell_type": "code",
      "source": [
        "count.max_count ## Will work"
      ],
      "metadata": {
        "colab": {
          "base_uri": "https://localhost:8080/"
        },
        "id": "jVboIrDQfQ_p",
        "outputId": "05ee2e22-b10f-4a99-d70b-d31bf161b1b1"
      },
      "execution_count": 71,
      "outputs": [
        {
          "output_type": "execute_result",
          "data": {
            "text/plain": [
              "10"
            ]
          },
          "metadata": {},
          "execution_count": 71
        }
      ]
    },
    {
      "cell_type": "markdown",
      "metadata": {
        "id": "eE3If_25vilK"
      },
      "source": [
        "2. Copy and paste your solution to question 1 and modify it so that all the data held by the counter is private. Implement functions to check the value of the counter, check the maximum value, and check if the counter is at the maximum."
      ]
    },
    {
      "cell_type": "code",
      "execution_count": 72,
      "metadata": {
        "id": "789DDm7BvilL"
      },
      "outputs": [],
      "source": [
        "class bounter:\n",
        "    def __init__(self, max_count):\n",
        "        self.__max_count = max_count\n",
        "        self.__value = 0\n",
        "\n",
        "    def increment(self):\n",
        "        if self.__value < self.__max_count:\n",
        "            self.__value += 1\n",
        "        else:\n",
        "            print(\"You have surpassed your limit.\")\n",
        "\n",
        "    def reset(self):\n",
        "        self.__value = 0\n",
        "\n",
        "    def show(self):\n",
        "        print(self.__value)\n",
        "\n",
        "    def get_value(self):\n",
        "        return self.__value\n",
        "\n",
        "    def get_max_count(self):\n",
        "        return self.__max_count\n",
        "\n",
        "    def is_at_max(self):\n",
        "        return self.__value == self.__max_count"
      ]
    },
    {
      "cell_type": "code",
      "source": [
        "bount = bounter(8)"
      ],
      "metadata": {
        "id": "lqWzdq5uYfOH"
      },
      "execution_count": 73,
      "outputs": []
    },
    {
      "cell_type": "code",
      "source": [
        "bount.increment()\n",
        "bount.increment()"
      ],
      "metadata": {
        "id": "9Tk1rYY_YoXq"
      },
      "execution_count": 74,
      "outputs": []
    },
    {
      "cell_type": "code",
      "source": [
        "bount.get_value()"
      ],
      "metadata": {
        "colab": {
          "base_uri": "https://localhost:8080/"
        },
        "id": "fsiXew0JdoGp",
        "outputId": "5983a957-7d11-40ba-fc06-717c1904ee80"
      },
      "execution_count": 75,
      "outputs": [
        {
          "output_type": "execute_result",
          "data": {
            "text/plain": [
              "2"
            ]
          },
          "metadata": {},
          "execution_count": 75
        }
      ]
    },
    {
      "cell_type": "code",
      "source": [
        "bount.__value() ## Will not work"
      ],
      "metadata": {
        "colab": {
          "base_uri": "https://localhost:8080/",
          "height": 141
        },
        "id": "7IM8dUy2gmHA",
        "outputId": "fbf0a2a9-822e-4815-84fb-835ba4e8dc8a"
      },
      "execution_count": 77,
      "outputs": [
        {
          "output_type": "error",
          "ename": "AttributeError",
          "evalue": "'bounter' object has no attribute '__value'",
          "traceback": [
            "\u001b[0;31m---------------------------------------------------------------------------\u001b[0m",
            "\u001b[0;31mAttributeError\u001b[0m                            Traceback (most recent call last)",
            "\u001b[0;32m<ipython-input-77-6b4f9f48a40e>\u001b[0m in \u001b[0;36m<cell line: 1>\u001b[0;34m()\u001b[0m\n\u001b[0;32m----> 1\u001b[0;31m \u001b[0mbount\u001b[0m\u001b[0;34m.\u001b[0m\u001b[0m__value\u001b[0m\u001b[0;34m(\u001b[0m\u001b[0;34m)\u001b[0m \u001b[0;31m## Will not work\u001b[0m\u001b[0;34m\u001b[0m\u001b[0;34m\u001b[0m\u001b[0m\n\u001b[0m",
            "\u001b[0;31mAttributeError\u001b[0m: 'bounter' object has no attribute '__value'"
          ]
        }
      ]
    },
    {
      "cell_type": "markdown",
      "metadata": {
        "id": "ki6E-WMvvilL"
      },
      "source": [
        "3. Implement a class to represent a rectangle, holding the length, width, and $x$ and $y$ coordinates of a corner of the object. Implement functions that compute the area and perimeter of the rectangle. Make all data members private and privide accessors to retrieve values of data members."
      ]
    },
    {
      "cell_type": "code",
      "execution_count": 78,
      "metadata": {
        "id": "usUKrhwCvilM"
      },
      "outputs": [],
      "source": [
        "class Rectangle:\n",
        "    def __init__(self, length, width, x, y):\n",
        "        self.__length = length\n",
        "        self.__width = width\n",
        "        self.__x = x\n",
        "        self.__y = y\n",
        "\n",
        "    def get_length(self):\n",
        "        return self.__length\n",
        "\n",
        "    def get_width(self):\n",
        "        return self.__width\n",
        "\n",
        "    def get_x(self):\n",
        "        return self.__x\n",
        "\n",
        "    def get_y(self):\n",
        "        return self.__y\n",
        "\n",
        "    def area(self):\n",
        "        return self.__length * self.__width\n",
        "\n",
        "    def perimeter(self):\n",
        "        return 2 * (self.__length + self.__width)"
      ]
    },
    {
      "cell_type": "markdown",
      "metadata": {
        "id": "ELr0p1X3vilM"
      },
      "source": [
        "4. Implement a class to represent a circle, holding the radius and $x$ and $y$ coordinates of center of the object. Implement functions that compute the area and perimeter of the rectangle. Make all data members private and privide accessors to retrieve values of data members."
      ]
    },
    {
      "cell_type": "code",
      "execution_count": 79,
      "metadata": {
        "id": "ni0_Y4L2vilN"
      },
      "outputs": [],
      "source": [
        "import math\n",
        "\n",
        "class Circle:\n",
        "    def __init__(self, radius, x, y):\n",
        "        self.__radius = radius\n",
        "        self.__x = x\n",
        "        self.__y = y\n",
        "\n",
        "    def get_radius(self):\n",
        "        return self.__radius\n",
        "\n",
        "    def get_x(self):\n",
        "        return self.__x\n",
        "\n",
        "    def get_y(self):\n",
        "        return self.__y\n",
        "\n",
        "    def area(self):\n",
        "        return math.pi * self.__radius ** 2\n",
        "\n",
        "    def circumference(self):\n",
        "        return 2 * math.pi * self.__radius"
      ]
    },
    {
      "cell_type": "markdown",
      "metadata": {
        "id": "SGs0X7dSvilO"
      },
      "source": [
        "5. Implement a common base class for the classes implemented in 3 and 4 above which implements all common methods as not implemented functions (virtual). Re-implement those classes to inherit from the base class and overload the functions accordingly."
      ]
    },
    {
      "cell_type": "code",
      "execution_count": 80,
      "metadata": {
        "id": "BpE9jmAXvilO"
      },
      "outputs": [],
      "source": [
        "class Shape:\n",
        "    def area(self):\n",
        "        # Virtual method for calculating the area\n",
        "        raise NotImplementedError(\"Subclasses must implement the area() method\")\n",
        "\n",
        "    def perimeter(self):\n",
        "        # Virtual method for calculating the perimeter\n",
        "        raise NotImplementedError(\"Subclasses must implement the perimeter() method\")\n",
        "\n",
        "class Rectangle(Shape):\n",
        "    def __init__(self, length, width):\n",
        "        self.length = length\n",
        "        self.width = width\n",
        "\n",
        "    def area(self):\n",
        "        return self.length * self.width\n",
        "\n",
        "    def perimeter(self):\n",
        "        return 2 * (self.length + self.width)\n",
        "\n",
        "class Circle(Shape):\n",
        "    def __init__(self, radius):\n",
        "        self.radius = radius\n",
        "\n",
        "    def area(self):\n",
        "        return 3.14 * self.radius * self.radius\n",
        "\n",
        "    def perimeter(self):\n",
        "        return 2 * 3.14 * self.radius"
      ]
    },
    {
      "cell_type": "code",
      "source": [
        "circle = Circle(3)\n",
        "print(\"Circle area:\", circle.area())\n",
        "print(\"Circle perimeter:\", circle.perimeter())\n",
        "\n",
        "rectangle = Rectangle(5, 4)\n",
        "print(\"Rectangle area:\", rectangle.area())\n",
        "print(\"Rectangle perimeter:\", rectangle.perimeter())"
      ],
      "metadata": {
        "colab": {
          "base_uri": "https://localhost:8080/"
        },
        "id": "u0WcSquDMPyw",
        "outputId": "2071c211-0af3-4cab-d61c-1ed3cdc09d77"
      },
      "execution_count": 81,
      "outputs": [
        {
          "output_type": "stream",
          "name": "stdout",
          "text": [
            "Circle area: 28.259999999999998\n",
            "Circle perimeter: 18.84\n",
            "Rectangle area: 20\n",
            "Rectangle perimeter: 18\n"
          ]
        }
      ]
    },
    {
      "cell_type": "markdown",
      "metadata": {
        "id": "FGpMRiTsvilO"
      },
      "source": [
        "6. Implement an analogous triangle class.\n",
        "- Draw three lines to use to create the triangle."
      ]
    },
    {
      "cell_type": "code",
      "execution_count": 82,
      "metadata": {
        "id": "F7XLcMikvilP"
      },
      "outputs": [],
      "source": [
        "class Shape:\n",
        "    def area(self):\n",
        "        raise NotImplementedError(\"Subclasses must implement the area() method\")\n",
        "\n",
        "    def perimeter(self):\n",
        "        raise NotImplementedError(\"Subclasses must implement the perimeter() method\")\n",
        "\n",
        "class Triangle(Shape):\n",
        "    def __init__(self, side1, side2, side3):\n",
        "        self.side1 = side1\n",
        "        self.side2 = side2\n",
        "        self.side3 = side3\n",
        "\n",
        "    def perimeter(self):\n",
        "        return self.side1 + self.side2 + self.side3\n",
        "\n",
        "    def area(self):\n",
        "        s = self.perimeter() / 2\n",
        "        return (s * (s - self.side1) * (s - self.side2) * (s - self.side3)) ** 0.5"
      ]
    },
    {
      "cell_type": "code",
      "source": [
        "triangle = Triangle(5, 4, 3)\n",
        "\n",
        "print(\"Triangle perimeter:\", triangle.perimeter())\n",
        "print(\"Triangle area:\", triangle.area())"
      ],
      "metadata": {
        "colab": {
          "base_uri": "https://localhost:8080/"
        },
        "id": "JJWx0F6QNIbP",
        "outputId": "ff4424ed-9dbd-4dcd-9e7c-8af7d665d53f"
      },
      "execution_count": 83,
      "outputs": [
        {
          "output_type": "stream",
          "name": "stdout",
          "text": [
            "Triangle perimeter: 12\n",
            "Triangle area: 6.0\n"
          ]
        }
      ]
    },
    {
      "cell_type": "markdown",
      "metadata": {
        "id": "gxMMAPlMvilP"
      },
      "source": [
        "7. Add a function to the object classes that tests if a given set of $x$ and $y$ coordinates are inside of the object."
      ]
    },
    {
      "cell_type": "code",
      "execution_count": 84,
      "metadata": {
        "id": "ayRYxloDvilP"
      },
      "outputs": [],
      "source": [
        "class Shape:\n",
        "    def area(self):\n",
        "        raise NotImplementedError(\"Subclasses must implement the area() method\")\n",
        "\n",
        "    def perimeter(self):\n",
        "        raise NotImplementedError(\"Subclasses must implement the perimeter() method\")\n",
        "\n",
        "class Rectangle(Shape):\n",
        "    def __init__(self, length, width):\n",
        "        self.length = length\n",
        "        self.width = width\n",
        "\n",
        "    def area(self):\n",
        "        return self.length * self.width\n",
        "\n",
        "    def perimeter(self):\n",
        "        return 2 * (self.length + self.width)\n",
        "\n",
        "    def is_inside(self, x, y):\n",
        "        return 0 <= x <= self.length and 0 <= y <= self.width\n",
        "\n",
        "\n",
        "class Circle(Shape):\n",
        "    def __init__(self, radius):\n",
        "        self.radius = radius\n",
        "\n",
        "    def area(self):\n",
        "        return 3.14 * self.radius * self.radius\n",
        "\n",
        "    def perimeter(self):\n",
        "        return 2 * 3.14 * self.radius\n",
        "\n",
        "    def is_inside(self, x, y):\n",
        "        distance_from_center = (x ** 2 + y ** 2) ** 0.5\n",
        "        return distance_from_center <= self.radius\n",
        "\n",
        "\n",
        "class Triangle(Shape):\n",
        "    def __init__(self, side1, side2, side3):\n",
        "        self.side1 = side1\n",
        "        self.side2 = side2\n",
        "        self.side3 = side3\n",
        "\n",
        "    def perimeter(self):\n",
        "        return self.side1 + self.side2 + self.side3\n",
        "\n",
        "    def area(self):\n",
        "        s = self.perimeter() / 2\n",
        "        return (s * (s - self.side1) * (s - self.side2) * (s - self.side3)) ** 0.5\n",
        "\n",
        "    def is_inside(self, x, y):\n",
        "        total_area = self.area()\n",
        "\n",
        "        area1 = 0.5 * abs((x*(0-self.side2)) + (self.side2*(self.side1-y)) + ((self.side1-x)*(y-0)))\n",
        "        area2 = 0.5 * abs((x*(0-self.side3)) + (self.side3*(self.side2-y)) + ((self.side2-x)*(y-0)))\n",
        "        area3 = 0.5 * abs((x*(0-0)) + (0*(self.side3-y)) + ((self.side3-x)*(y-0)))\n",
        "\n",
        "        return total_area == (area1 + area2 + area3)"
      ]
    },
    {
      "cell_type": "code",
      "source": [
        "rectangle = Rectangle(5, 4)\n",
        "print(\"Is point (6, 2) inside the rectangle?\", rectangle.is_inside(6, 2))\n",
        "print(\"Is point (2, 3) inside the rectangle?\", rectangle.is_inside(2, 3))\n",
        "\n",
        "circle = Circle(3)\n",
        "print(\"Is point (1, 2) inside the circle?\", circle.is_inside(1, 2))\n",
        "print(\"Is point (5, 5) inside the circle?\", circle.is_inside(5, 5))\n",
        "\n",
        "triangle = Triangle(3, 4, 5)\n",
        "print(\"Is point (2, 2) inside the triangle?\", triangle.is_inside(2, 2))\n",
        "print(\"Is point (6, 6) inside the triangle?\", triangle.is_inside(6, 6))\n"
      ],
      "metadata": {
        "colab": {
          "base_uri": "https://localhost:8080/"
        },
        "id": "41bPEbTCPn2G",
        "outputId": "41fcaf2e-2ed1-46f1-f679-21282b95ad31"
      },
      "execution_count": 85,
      "outputs": [
        {
          "output_type": "stream",
          "name": "stdout",
          "text": [
            "Is point (6, 2) inside the rectangle? False\n",
            "Is point (2, 3) inside the rectangle? True\n",
            "Is point (1, 2) inside the circle? True\n",
            "Is point (5, 5) inside the circle? False\n",
            "Is point (2, 2) inside the triangle? True\n",
            "Is point (6, 6) inside the triangle? False\n"
          ]
        }
      ]
    },
    {
      "cell_type": "markdown",
      "metadata": {
        "id": "9a0WnvG5vilQ"
      },
      "source": [
        "8. Add a function to the object classes that return a list of up to 16 pairs of  $x$ and $y$ points on the parameter of the object.\n",
        "\n"
      ]
    },
    {
      "cell_type": "code",
      "execution_count": 86,
      "metadata": {
        "id": "x0HjkGajvilQ",
        "colab": {
          "base_uri": "https://localhost:8080/"
        },
        "outputId": "6cbf62e2-48c3-4d79-e742-f331a20caf34"
      },
      "outputs": [
        {
          "output_type": "stream",
          "name": "stdout",
          "text": [
            "Boundary points of rectangle: [(0, 0), (0, 4), (1, 0), (1, 4), (2, 0), (2, 4), (3, 0), (3, 4), (4, 0), (4, 4), (0, 0), (5, 0), (0, 1), (5, 1), (0, 2), (5, 2)]\n",
            "Boundary points of circle: [(3.0, 0.0), (2.7718670984108162, 1.147498491828029), (2.1221648075015995, 2.1204755433160978), (1.1497054398018547, 2.770952435840432), (0.00238898013219979, 2.999999048795504), (-1.1452908161837203, 2.7727800032395695), (-2.118784934460016, 2.123852725945296), (-2.7700360161084374, 1.1519116587056915), (-2.9999961951826184, 0.004777958749460485), (-2.7736911497477856, -1.1430824142688958), (-2.125539297576818, -2.1170929820054303), (-1.154117147140496, -2.769117839795967), (-0.007166934336844616, -2.999991439163154), (1.1408732874839824, -2.7746005373576734), (2.1153996870252683, -2.1272245213266503), (2.7681979074852707, -1.1563219037076866)]\n",
            "Boundary points of triangle: [(0.0, 0), (0.75, 0), (1.5, 0), (2.25, 0), (3, 0.0), (3, 0.75), (3, 1.5), (3, 2.25), (3, 3.0), (3, 3.75), (-0.5, 5), (-1.25, 5), (-2.0, 5), (-2.75, 5), (-3.5, 5), (-4.25, 5)]\n"
          ]
        }
      ],
      "source": [
        "class Rectangle(Shape):\n",
        "    def __init__(self, length, width):\n",
        "        self.length = length\n",
        "        self.width = width\n",
        "\n",
        "    def area(self):\n",
        "        return self.length * self.width\n",
        "\n",
        "    def perimeter(self):\n",
        "        return 2 * (self.length + self.width)\n",
        "\n",
        "    def is_inside(self, x, y):\n",
        "        return 0 <= x <= self.length and 0 <= y <= self.width\n",
        "\n",
        "    def get_boundary_points(self):\n",
        "        points = []\n",
        "        for i in range(self.length):\n",
        "            points.append((i, 0))\n",
        "            points.append((i, self.width))\n",
        "        for i in range(self.width):\n",
        "            points.append((0, i))\n",
        "            points.append((self.length, i))\n",
        "        return points[:16]\n",
        "\n",
        "\n",
        "class Circle(Shape):\n",
        "    def __init__(self, radius):\n",
        "        self.radius = radius\n",
        "\n",
        "    def area(self):\n",
        "        return 3.14 * self.radius * self.radius\n",
        "\n",
        "    def perimeter(self):\n",
        "        return 2 * 3.14 * self.radius\n",
        "\n",
        "    def is_inside(self, x, y):\n",
        "        distance_from_center = (x ** 2 + y ** 2) ** 0.5\n",
        "        return distance_from_center <= self.radius\n",
        "\n",
        "    def get_boundary_points(self):\n",
        "        points = []\n",
        "        step = 2 * self.radius / 16\n",
        "        for i in range(16):\n",
        "            angle = i * (2 * 3.14 / 16)\n",
        "            points.append((self.radius * math.cos(angle), self.radius * math.sin(angle)))\n",
        "        return points\n",
        "\n",
        "\n",
        "class Triangle(Shape):\n",
        "    def __init__(self, side1, side2, side3):\n",
        "        self.side1 = side1\n",
        "        self.side2 = side2\n",
        "        self.side3 = side3\n",
        "\n",
        "    def perimeter(self):\n",
        "        return self.side1 + self.side2 + self.side3\n",
        "\n",
        "    def area(self):\n",
        "        s = self.perimeter() / 2\n",
        "        return (s * (s - self.side1) * (s - self.side2) * (s - self.side3)) ** 0.5\n",
        "\n",
        "    def is_inside(self, x, y):\n",
        "        total_area = self.area()\n",
        "\n",
        "        area1 = 0.5 * abs((x*(0-self.side2)) + (self.side2*(self.side1-y)) + ((self.side1-x)*(y-0)))\n",
        "        area2 = 0.5 * abs((x*(0-self.side3)) + (self.side3*(self.side2-y)) + ((self.side2-x)*(y-0)))\n",
        "        area3 = 0.5 * abs((x*(0-0)) + (0*(self.side3-y)) + ((self.side3-x)*(y-0)))\n",
        "\n",
        "        return total_area == (area1 + area2 + area3)\n",
        "\n",
        "    def get_boundary_points(self):\n",
        "        points = []\n",
        "        step = self.perimeter() / 16\n",
        "        for i in range(16):\n",
        "            if i * step < self.side1:\n",
        "                points.append((i * step, 0))\n",
        "            elif i * step < self.side1 + self.side2:\n",
        "                points.append((self.side1, (i * step) - self.side1))\n",
        "            else:\n",
        "                points.append((self.side1 + self.side2 - (i * step), self.side3))\n",
        "        return points\n",
        "\n",
        "\n",
        "# Test cases\n",
        "rectangle = Rectangle(5, 4)\n",
        "print(\"Boundary points of rectangle:\", rectangle.get_boundary_points())\n",
        "\n",
        "circle = Circle(3)\n",
        "print(\"Boundary points of circle:\", circle.get_boundary_points())\n",
        "\n",
        "triangle = Triangle(3, 4, 5)\n",
        "print(\"Boundary points of triangle:\", triangle.get_boundary_points())\n"
      ]
    },
    {
      "cell_type": "markdown",
      "metadata": {
        "id": "z3qWLALBvilQ"
      },
      "source": [
        "9. Add a function in the base class of the object classes that returns true/false testing that the object overlaps with another object."
      ]
    },
    {
      "cell_type": "code",
      "execution_count": 87,
      "metadata": {
        "id": "Z71EJFtjvilQ",
        "colab": {
          "base_uri": "https://localhost:8080/"
        },
        "outputId": "ce29463d-4803-4b3f-e0eb-c06ef25505e6"
      },
      "outputs": [
        {
          "output_type": "stream",
          "name": "stdout",
          "text": [
            "Boundary points of rectangle: [(0, 0), (0, 4), (1, 0), (1, 4), (2, 0), (2, 4), (3, 0), (3, 4), (4, 0), (4, 4), (0, 0), (5, 0), (0, 1), (5, 1), (0, 2), (5, 2)]\n",
            "Boundary points of circle: [(3.0, 0.0), (2.7718670984108162, 1.147498491828029), (2.1221648075015995, 2.1204755433160978), (1.1497054398018547, 2.770952435840432), (0.00238898013219979, 2.999999048795504), (-1.1452908161837203, 2.7727800032395695), (-2.118784934460016, 2.123852725945296), (-2.7700360161084374, 1.1519116587056915), (-2.9999961951826184, 0.004777958749460485), (-2.7736911497477856, -1.1430824142688958), (-2.125539297576818, -2.1170929820054303), (-1.154117147140496, -2.769117839795967), (-0.007166934336844616, -2.999991439163154), (1.1408732874839824, -2.7746005373576734), (2.1153996870252683, -2.1272245213266503), (2.7681979074852707, -1.1563219037076866)]\n",
            "Boundary points of triangle: [(0.0, 0), (0.75, 0), (1.5, 0), (2.25, 0), (3, 0.0), (3, 0.75), (3, 1.5), (3, 2.25), (3, 3.0), (3, 3.75), (-0.5, 5), (-1.25, 5), (-2.0, 5), (-2.75, 5), (-3.5, 5), (-4.25, 5)]\n",
            "Does the rectangle overlap with the circle? True\n",
            "Does the triangle overlap with the rectangle? True\n"
          ]
        }
      ],
      "source": [
        "import math\n",
        "\n",
        "class Shape:\n",
        "    def area(self):\n",
        "        raise NotImplementedError(\"Subclasses must implement the area() method\")\n",
        "\n",
        "    def perimeter(self):\n",
        "        raise NotImplementedError(\"Subclasses must implement the perimeter() method\")\n",
        "\n",
        "    def is_inside(self, x, y):\n",
        "        raise NotImplementedError(\"Subclasses must implement the is_inside() method\")\n",
        "\n",
        "    def overlaps(self, other):\n",
        "        boundary_points = self.get_boundary_points()\n",
        "        for x, y in boundary_points:\n",
        "            if other.is_inside(x, y):\n",
        "                return True\n",
        "        return False\n",
        "\n",
        "    def get_boundary_points(self):\n",
        "        raise NotImplementedError(\"Subclasses must implement the get_boundary_points() method\")\n",
        "\n",
        "\n",
        "class Rectangle(Shape):\n",
        "    def __init__(self, length, width):\n",
        "        self.length = length\n",
        "        self.width = width\n",
        "\n",
        "    def area(self):\n",
        "        return self.length * self.width\n",
        "\n",
        "    def perimeter(self):\n",
        "        return 2 * (self.length + self.width)\n",
        "\n",
        "    def is_inside(self, x, y):\n",
        "        return 0 <= x <= self.length and 0 <= y <= self.width\n",
        "\n",
        "    def get_boundary_points(self):\n",
        "        points = []\n",
        "        for i in range(self.length):\n",
        "            points.append((i, 0))\n",
        "            points.append((i, self.width))\n",
        "        for i in range(self.width):\n",
        "            points.append((0, i))\n",
        "            points.append((self.length, i))\n",
        "        return points[:16]\n",
        "\n",
        "\n",
        "class Circle(Shape):\n",
        "    def __init__(self, radius):\n",
        "        self.radius = radius\n",
        "\n",
        "    def area(self):\n",
        "        return 3.14 * self.radius * self.radius\n",
        "\n",
        "    def perimeter(self):\n",
        "        return 2 * 3.14 * self.radius\n",
        "\n",
        "    def is_inside(self, x, y):\n",
        "        distance_from_center = (x ** 2 + y ** 2) ** 0.5\n",
        "        return distance_from_center <= self.radius\n",
        "\n",
        "    def get_boundary_points(self):\n",
        "        points = []\n",
        "        step = 2 * self.radius / 16\n",
        "        for i in range(16):\n",
        "            angle = i * (2 * 3.14 / 16)\n",
        "            points.append((self.radius * math.cos(angle), self.radius * math.sin(angle)))\n",
        "        return points\n",
        "\n",
        "\n",
        "class Triangle(Shape):\n",
        "    def __init__(self, side1, side2, side3):\n",
        "        self.side1 = side1\n",
        "        self.side2 = side2\n",
        "        self.side3 = side3\n",
        "\n",
        "    def perimeter(self):\n",
        "        return self.side1 + self.side2 + self.side3\n",
        "\n",
        "    def area(self):\n",
        "        s = self.perimeter() / 2\n",
        "        return (s * (s - self.side1) * (s - self.side2) * (s - self.side3)) ** 0.5\n",
        "\n",
        "    def is_inside(self, x, y):\n",
        "        total_area = self.area()\n",
        "\n",
        "        area1 = 0.5 * abs((x*(0-self.side2)) + (self.side2*(self.side1-y)) + ((self.side1-x)*(y-0)))\n",
        "        area2 = 0.5 * abs((x*(0-self.side3)) + (self.side3*(self.side2-y)) + ((self.side2-x)*(y-0)))\n",
        "        area3 = 0.5 * abs((x*(0-0)) + (0*(self.side3-y)) + ((self.side3-x)*(y-0)))\n",
        "\n",
        "        return total_area == (area1 + area2 + area3)\n",
        "\n",
        "    def get_boundary_points(self):\n",
        "        points = []\n",
        "        step = self.perimeter() / 16\n",
        "        for i in range(16):\n",
        "            if i * step < self.side1:\n",
        "                points.append((i * step, 0))\n",
        "            elif i * step < self.side1 + self.side2:\n",
        "                points.append((self.side1, (i * step) - self.side1))\n",
        "            else:\n",
        "                points.append((self.side1 + self.side2 - (i * step), self.side3))\n",
        "        return points\n",
        "\n",
        "\n",
        "rectangle = Rectangle(5, 4)\n",
        "print(\"Boundary points of rectangle:\", rectangle.get_boundary_points())\n",
        "\n",
        "circle = Circle(3)\n",
        "print(\"Boundary points of circle:\", circle.get_boundary_points())\n",
        "\n",
        "triangle = Triangle(3, 4, 5)\n",
        "print(\"Boundary points of triangle:\", triangle.get_boundary_points())\n",
        "\n",
        "\n",
        "print(\"Does the rectangle overlap with the circle?\", rectangle.overlaps(circle))\n",
        "print(\"Does the triangle overlap with the rectangle?\", triangle.overlaps(rectangle))\n"
      ]
    },
    {
      "cell_type": "markdown",
      "metadata": {
        "id": "2z3i5QsLvilR"
      },
      "source": [
        "10. Copy the `Canvas` class from lecture to in a python file creating a `paint` module. Copy your classes from above into the module and implement paint functions. Implement a `CompoundShape` class. Create a simple drawing demonstrating that all of your classes are working."
      ]
    },
    {
      "cell_type": "code",
      "execution_count": 88,
      "metadata": {
        "id": "56mth1g0vilR"
      },
      "outputs": [],
      "source": [
        "class Shape:\n",
        "    def area(self):\n",
        "        raise NotImplementedError(\"Subclasses must implement the area() method\")\n",
        "\n",
        "    def perimeter(self):\n",
        "        raise NotImplementedError(\"Subclasses must implement the perimeter() method\")\n",
        "\n",
        "    def is_inside(self, x, y):\n",
        "        raise NotImplementedError(\"Subclasses must implement the is_inside() method\")\n",
        "\n",
        "    def overlaps(self, other):\n",
        "        boundary_points = self.get_boundary_points()\n",
        "        for x, y in boundary_points:\n",
        "            if other.is_inside(x, y):\n",
        "                return True\n",
        "        return False\n",
        "\n",
        "    def get_boundary_points(self):\n",
        "        raise NotImplementedError(\"Subclasses must implement the get_boundary_points() method\")\n",
        "\n",
        "\n",
        "class Rectangle(Shape):\n",
        "    def __init__(self, length, width):\n",
        "        self.length = length\n",
        "        self.width = width\n",
        "\n",
        "    def area(self):\n",
        "        return self.length * self.width\n",
        "\n",
        "    def perimeter(self):\n",
        "        return 2 * (self.length + self.width)\n",
        "\n",
        "    def is_inside(self, x, y):\n",
        "        return 0 <= x <= self.length and 0 <= y <= self.width\n",
        "\n",
        "    def get_boundary_points(self):\n",
        "        points = []\n",
        "        for i in range(self.length):\n",
        "            points.append((i, 0))\n",
        "            points.append((i, self.width))\n",
        "        for i in range(self.width):\n",
        "            points.append((0, i))\n",
        "            points.append((self.length, i))\n",
        "        return points[:16]\n",
        "\n",
        "\n",
        "class Circle(Shape):\n",
        "    def __init__(self, radius):\n",
        "        self.radius = radius\n",
        "\n",
        "    def area(self):\n",
        "        return 3.14 * self.radius * self.radius\n",
        "\n",
        "    def perimeter(self):\n",
        "        return 2 * 3.14 * self.radius\n",
        "\n",
        "    def is_inside(self, x, y):\n",
        "        distance_from_center = (x ** 2 + y ** 2) ** 0.5\n",
        "        return distance_from_center <= self.radius\n",
        "\n",
        "    def get_boundary_points(self):\n",
        "        points = []\n",
        "        step = 2 * self.radius / 16\n",
        "        for i in range(16):\n",
        "            angle = i * (2 * 3.14 / 16)\n",
        "            points.append((self.radius * math.cos(angle), self.radius * math.sin(angle)))\n",
        "        return points\n",
        "\n",
        "\n",
        "class Triangle(Shape):\n",
        "    def __init__(self, side1, side2, side3):\n",
        "        self.side1 = side1\n",
        "        self.side2 = side2\n",
        "        self.side3 = side3\n",
        "\n",
        "    def perimeter(self):\n",
        "        return self.side1 + self.side2 + self.side3\n",
        "\n",
        "    def area(self):\n",
        "        s = self.perimeter() / 2\n",
        "        return (s * (s - self.side1) * (s - self.side2) * (s - self.side3)) ** 0.5\n",
        "\n",
        "    def is_inside(self, x, y):\n",
        "        total_area = self.area()\n",
        "\n",
        "        area1 = 0.5 * abs((x*(0-self.side2)) + (self.side2*(self.side1-y)) + ((self.side1-x)*(y-0)))\n",
        "        area2 = 0.5 * abs((x*(0-self.side3)) + (self.side3*(self.side2-y)) + ((self.side2-x)*(y-0)))\n",
        "        area3 = 0.5 * abs((x*(0-0)) + (0*(self.side3-y)) + ((self.side3-x)*(y-0)))\n",
        "\n",
        "        return total_area == (area1 + area2 + area3)\n",
        "\n",
        "    def get_boundary_points(self):\n",
        "        points = []\n",
        "        step = self.perimeter() / 16\n",
        "        for i in range(16):\n",
        "            if i * step < self.side1:\n",
        "                points.append((i * step, 0))\n",
        "            elif i * step < self.side1 + self.side2:\n",
        "                points.append((self.side1, (i * step) - self.side1))\n",
        "            else:\n",
        "                points.append((self.side1 + self.side2 - (i * step), self.side3))\n",
        "        return points\n",
        "\n",
        "\n",
        "class CompoundShape(Shape):\n",
        "    def __init__(self, shapes):\n",
        "        self.shapes = shapes\n",
        "\n",
        "    def area(self):\n",
        "        return sum(shape.area() for shape in self.shapes)\n",
        "\n",
        "    def perimeter(self):\n",
        "        return sum(shape.perimeter() for shape in self.shapes)\n",
        "\n",
        "    def is_inside(self, x, y):\n",
        "        return any(shape.is_inside(x, y) for shape in self.shapes)\n",
        "\n",
        "    def get_boundary_points(self):\n",
        "        boundary_points = []\n",
        "        for shape in self.shapes:\n",
        "            boundary_points.extend(shape.get_boundary_points())\n",
        "        return boundary_points\n",
        "\n",
        "class Canvas:\n",
        "    def __init__(self, width, height):\n",
        "        self.width = width\n",
        "        self.height = height\n",
        "        self.data = [[' '] * width for _ in range(height)]\n",
        "\n",
        "    def set_pixel(self, row, col, char='*'):\n",
        "        if 0 <= row < self.height and 0 <= col < self.width:\n",
        "            self.data[row][col] = char\n",
        "        else:\n",
        "            print(\"Warning: Attempted to set pixel outside canvas bounds.\")\n",
        "\n",
        "    def get_pixel(self, row, col):\n",
        "        if 0 <= row < self.height and 0 <= col < self.width:\n",
        "            return self.data[row][col]\n",
        "        else:\n",
        "            print(\"Warning: Attempted to access pixel outside canvas bounds.\")\n",
        "            return None\n",
        "\n",
        "    def clear_canvas(self):\n",
        "        self.data = [[' '] * self.width for _ in range(self.height)]\n",
        "\n",
        "    def v_line(self, x, y, w, **kwargs):\n",
        "        for i in range(y, min(y + w, self.height)):\n",
        "            self.set_pixel(i, x, **kwargs)\n",
        "\n",
        "    def h_line(self, x, y, h, **kwargs):\n",
        "        for i in range(x, min(x + h, self.width)):\n",
        "            self.set_pixel(y, i, **kwargs)\n",
        "\n",
        "    def line(self, x1, y1, x2, y2, **kwargs):\n",
        "        slope = (y2 - y1) / (x2 - x1) if x2 - x1 != 0 else float('inf')\n",
        "        for x in range(min(x1, x2), min(max(x1, x2) + 1, self.width)):\n",
        "            y = y1 + int(slope * (x - x1))\n",
        "            if 0 <= y < self.height:\n",
        "                self.set_pixel(y, x, **kwargs)\n",
        "\n",
        "    def display(self):\n",
        "        print(\"\\n\".join([\"\".join(row) for row in self.data]))"
      ]
    },
    {
      "cell_type": "code",
      "source": [
        "def test_canvas():\n",
        "    canvas = Canvas(50, 25)\n",
        "    rectangle = Rectangle(18, 8)\n",
        "    circle = Circle(8)\n",
        "    triangle = Triangle(12, 12, 12)\n",
        "\n",
        "    canvas.clear_canvas()\n",
        "\n",
        "    canvas.top_line()\n",
        "    canvas.v_line(5, 5, 20)\n",
        "    canvas.h_line(5, 5, 15)\n",
        "    canvas.line(25, 5, 40, 20)\n",
        "    canvas.right_line(49)\n",
        "    canvas.bottom_line(24)\n",
        "\n",
        "    for y in range(6, 20):\n",
        "        canvas.set_pixel(y, 5, '*')\n",
        "        canvas.set_pixel(y, 25, '*')\n",
        "\n",
        "    for x, y in rectangle.get_boundary_points():\n",
        "        canvas.set_pixel(y + 6, x + 6, 'R')\n",
        "    for x, y in circle.get_boundary_points():\n",
        "        canvas.set_pixel(y + 12, x + 30, 'C')\n",
        "    for x, y in triangle.get_boundary_points():\n",
        "        canvas.set_pixel(y + 9, x + 16, 'T')\n",
        "\n",
        "    canvas.display()\n",
        "\n",
        "    compound_shape = CompoundShape([rectangle, circle, triangle])\n",
        "    print(\"Area of compound shape:\", compound_shape.area())\n",
        "    print(\"Perimeter of compound shape:\", compound_shape.perimeter())\n",
        "    print(\"Is (20, 15) inside the compound shape?\", compound_shape.is_inside(20, 15))\n",
        "    print(\"Boundary points of compound shape:\", compound_shape.get_boundary_points())\n",
        "\n",
        "test_canvas()\n"
      ],
      "metadata": {
        "colab": {
          "base_uri": "https://localhost:8080/",
          "height": 297
        },
        "id": "xekidtr8efim",
        "outputId": "b322e4f4-3d77-45a7-bc70-f221220027b3"
      },
      "execution_count": 89,
      "outputs": [
        {
          "output_type": "error",
          "ename": "AttributeError",
          "evalue": "'Canvas' object has no attribute 'top_line'",
          "traceback": [
            "\u001b[0;31m---------------------------------------------------------------------------\u001b[0m",
            "\u001b[0;31mAttributeError\u001b[0m                            Traceback (most recent call last)",
            "\u001b[0;32m<ipython-input-89-a6c876b6e352>\u001b[0m in \u001b[0;36m<cell line: 35>\u001b[0;34m()\u001b[0m\n\u001b[1;32m     33\u001b[0m     \u001b[0mprint\u001b[0m\u001b[0;34m(\u001b[0m\u001b[0;34m\"Boundary points of compound shape:\"\u001b[0m\u001b[0;34m,\u001b[0m \u001b[0mcompound_shape\u001b[0m\u001b[0;34m.\u001b[0m\u001b[0mget_boundary_points\u001b[0m\u001b[0;34m(\u001b[0m\u001b[0;34m)\u001b[0m\u001b[0;34m)\u001b[0m\u001b[0;34m\u001b[0m\u001b[0;34m\u001b[0m\u001b[0m\n\u001b[1;32m     34\u001b[0m \u001b[0;34m\u001b[0m\u001b[0m\n\u001b[0;32m---> 35\u001b[0;31m \u001b[0mtest_canvas\u001b[0m\u001b[0;34m(\u001b[0m\u001b[0;34m)\u001b[0m\u001b[0;34m\u001b[0m\u001b[0;34m\u001b[0m\u001b[0m\n\u001b[0m",
            "\u001b[0;32m<ipython-input-89-a6c876b6e352>\u001b[0m in \u001b[0;36mtest_canvas\u001b[0;34m()\u001b[0m\n\u001b[1;32m      7\u001b[0m     \u001b[0mcanvas\u001b[0m\u001b[0;34m.\u001b[0m\u001b[0mclear_canvas\u001b[0m\u001b[0;34m(\u001b[0m\u001b[0;34m)\u001b[0m\u001b[0;34m\u001b[0m\u001b[0;34m\u001b[0m\u001b[0m\n\u001b[1;32m      8\u001b[0m \u001b[0;34m\u001b[0m\u001b[0m\n\u001b[0;32m----> 9\u001b[0;31m     \u001b[0mcanvas\u001b[0m\u001b[0;34m.\u001b[0m\u001b[0mtop_line\u001b[0m\u001b[0;34m(\u001b[0m\u001b[0;34m)\u001b[0m\u001b[0;34m\u001b[0m\u001b[0;34m\u001b[0m\u001b[0m\n\u001b[0m\u001b[1;32m     10\u001b[0m     \u001b[0mcanvas\u001b[0m\u001b[0;34m.\u001b[0m\u001b[0mv_line\u001b[0m\u001b[0;34m(\u001b[0m\u001b[0;36m5\u001b[0m\u001b[0;34m,\u001b[0m \u001b[0;36m5\u001b[0m\u001b[0;34m,\u001b[0m \u001b[0;36m20\u001b[0m\u001b[0;34m)\u001b[0m\u001b[0;34m\u001b[0m\u001b[0;34m\u001b[0m\u001b[0m\n\u001b[1;32m     11\u001b[0m     \u001b[0mcanvas\u001b[0m\u001b[0;34m.\u001b[0m\u001b[0mh_line\u001b[0m\u001b[0;34m(\u001b[0m\u001b[0;36m5\u001b[0m\u001b[0;34m,\u001b[0m \u001b[0;36m5\u001b[0m\u001b[0;34m,\u001b[0m \u001b[0;36m15\u001b[0m\u001b[0;34m)\u001b[0m\u001b[0;34m\u001b[0m\u001b[0;34m\u001b[0m\u001b[0m\n",
            "\u001b[0;31mAttributeError\u001b[0m: 'Canvas' object has no attribute 'top_line'"
          ]
        }
      ]
    },
    {
      "cell_type": "markdown",
      "metadata": {
        "id": "qx6hd2I_vilR"
      },
      "source": [
        "11. Create a `RasterDrawing` class. Demonstrate that you can create a drawing made of several shapes, paint the drawing, modify the drawing, and paint it again."
      ]
    },
    {
      "cell_type": "code",
      "execution_count": 90,
      "metadata": {
        "id": "HsRriOeDvilR",
        "colab": {
          "base_uri": "https://localhost:8080/"
        },
        "outputId": "021b41bc-d1c5-4aef-be1b-fa88d88a21c7"
      },
      "outputs": [
        {
          "output_type": "stream",
          "name": "stdout",
          "text": [
            "Initial Drawing:\n",
            "TTTTTTCCCC                    \n",
            "R C RT   CC                   \n",
            "RC  RT    CC                  \n",
            "C   RT     C                  \n",
            "C   RT     C                  \n",
            "C   RT     C                  \n",
            "C   RT      C                 \n",
            "C   RT     C                  \n",
            "C   RT     C                  \n",
            "TTTTTT     C                  \n",
            " CC       C                   \n",
            "  CCCC CCC                    \n",
            "      C                       \n",
            "                              \n",
            "                              \n",
            "                              \n",
            "                              \n",
            "                              \n",
            "                              \n",
            "                              \n",
            "\n",
            "Modified Drawing (Rotated Triangle):\n",
            "TTTTTTTTTT                    \n",
            "R C R    TC                   \n",
            "RC  R    TCC                  \n",
            "C   R    T C                  \n",
            "C   R    T C                  \n",
            "TTTTTTTTTT C                  \n",
            "C   R       C                 \n",
            "C   R      C                  \n",
            "C   R      C                  \n",
            "CCRRR      C                  \n",
            " CC       C                   \n",
            "  CCCC CCC                    \n",
            "      C                       \n",
            "                              \n",
            "                              \n",
            "                              \n",
            "                              \n",
            "                              \n",
            "                              \n",
            "                              \n"
          ]
        }
      ],
      "source": [
        "class RasterDrawing:\n",
        "    def __init__(self, width, height):\n",
        "        self.width = width\n",
        "        self.height = height\n",
        "        self.canvas = Canvas(width, height)\n",
        "        self.shapes = []\n",
        "\n",
        "    def add_shape(self, shape):\n",
        "        self.shapes.append(shape)\n",
        "\n",
        "    def paint(self):\n",
        "        self.canvas.clear_canvas()\n",
        "        for shape in self.shapes:\n",
        "            for x, y in shape.get_boundary_points():\n",
        "                if 0 <= x < self.width and 0 <= y < self.height:\n",
        "                    self.canvas.set_pixel(y, x, shape.symbol)\n",
        "\n",
        "    def display(self):\n",
        "        self.canvas.display()\n",
        "\n",
        "class Rectangle:\n",
        "    def __init__(self, width, height):\n",
        "        self.width = width\n",
        "        self.height = height\n",
        "        self.symbol = 'R'\n",
        "\n",
        "    def get_boundary_points(self):\n",
        "        boundary_points = []\n",
        "        for i in range(self.width):\n",
        "            boundary_points.append((0, i))\n",
        "            boundary_points.append((self.height - 1, i))\n",
        "        for i in range(1, self.height - 1):\n",
        "            boundary_points.append((i, 0))\n",
        "            boundary_points.append((i, self.width - 1))\n",
        "        return boundary_points\n",
        "\n",
        "class Circle:\n",
        "    def __init__(self, radius):\n",
        "        self.radius = radius\n",
        "        self.symbol = 'C'\n",
        "\n",
        "    def get_boundary_points(self):\n",
        "        boundary_points = []\n",
        "        for x in range(-self.radius, self.radius + 1):\n",
        "            y = (self.radius ** 2 - x ** 2) ** 0.5\n",
        "            boundary_points.append((int(y + self.radius), int(x + self.radius)))\n",
        "            boundary_points.append((int(-y + self.radius), int(x + self.radius)))\n",
        "        for y in range(-self.radius, self.radius + 1):\n",
        "            x = (self.radius ** 2 - y ** 2) ** 0.5\n",
        "            boundary_points.append((int(y + self.radius), int(x + self.radius)))\n",
        "            boundary_points.append((int(y + self.radius), int(-x + self.radius)))\n",
        "        return boundary_points\n",
        "\n",
        "class Triangle:\n",
        "    def __init__(self, base, height):\n",
        "        self.base = base\n",
        "        self.height = height\n",
        "        self.symbol = 'T'\n",
        "\n",
        "    def get_boundary_points(self):\n",
        "        boundary_points = []\n",
        "        for i in range(self.base):\n",
        "            boundary_points.append((self.height - 1, i))\n",
        "        for i in range(self.height):\n",
        "            boundary_points.append((i, 0))\n",
        "            boundary_points.append((i, self.base - 1))\n",
        "        return boundary_points\n",
        "\n",
        "def main():\n",
        "    drawing = RasterDrawing(30, 20)\n",
        "    drawing.add_shape(Rectangle(10, 5))\n",
        "    drawing.add_shape(Circle(6))\n",
        "    drawing.add_shape(Triangle(10, 6))\n",
        "    drawing.paint()\n",
        "    print(\"Initial Drawing:\")\n",
        "    drawing.display()\n",
        "    drawing.shapes[2] = Triangle(6, 10)\n",
        "    drawing.paint()\n",
        "    print(\"\\nModified Drawing (Rotated Triangle):\")\n",
        "    drawing.display()\n",
        "\n",
        "if __name__ == \"__main__\":\n",
        "    main()\n"
      ]
    },
    {
      "cell_type": "markdown",
      "metadata": {
        "id": "d1AhjSdRvilR"
      },
      "source": [
        "12. Implement the ability to load/save raster drawings and demonstate that your method works. One way to implement this ability:\n",
        "\n",
        "   * Overload `__repr__` functions of all objects to return strings of the python code that would construct the object.\n",
        "   \n",
        "   * In the save method of raster drawing class, store the representations into the file.\n",
        "   * Write a loader function that reads the file and uses `eval` to instantiate the object.\n",
        "\n",
        "For example:"
      ]
    },
    {
      "cell_type": "code",
      "execution_count": 91,
      "metadata": {
        "id": "WfuNx6fsvilS"
      },
      "outputs": [],
      "source": [
        "class foo:\n",
        "    def __init__(self,a,b=None):\n",
        "        self.a=a\n",
        "        self.b=b\n",
        "\n",
        "    def __repr__(self):\n",
        "        return \"foo(\"+repr(self.a)+\",\"+repr(self.b)+\")\"\n",
        "\n",
        "    def save(self,filename):\n",
        "        f=open(filename,\"w\")\n",
        "        f.write(self.__repr__())\n",
        "        f.close()\n",
        "\n",
        "\n",
        "def foo_loader(filename):\n",
        "    f=open(filename,\"r\")\n",
        "    tmp=eval(f.read())\n",
        "    f.close()\n",
        "    return tmp\n"
      ]
    },
    {
      "cell_type": "code",
      "execution_count": 92,
      "metadata": {
        "id": "lSp_YazrvilT",
        "colab": {
          "base_uri": "https://localhost:8080/"
        },
        "outputId": "a4eb4817-da27-4c34-afce-4a3c7b91b1dd"
      },
      "outputs": [
        {
          "output_type": "stream",
          "name": "stdout",
          "text": [
            "foo(1,'hello')\n"
          ]
        }
      ],
      "source": [
        "# Test\n",
        "print(repr(foo(1,\"hello\")))"
      ]
    },
    {
      "cell_type": "code",
      "execution_count": 93,
      "metadata": {
        "id": "hNmoARtpvilU"
      },
      "outputs": [],
      "source": [
        "# Create an object and save it\n",
        "ff=foo(1,\"hello\")\n",
        "ff.save(\"Test.foo\")"
      ]
    },
    {
      "cell_type": "code",
      "execution_count": 94,
      "metadata": {
        "id": "FVliCX_vvilU",
        "colab": {
          "base_uri": "https://localhost:8080/"
        },
        "outputId": "3aaa0c1c-7ae4-4e0e-b761-bc14ed5c37c1"
      },
      "outputs": [
        {
          "output_type": "stream",
          "name": "stdout",
          "text": [
            "foo(1,'hello')"
          ]
        }
      ],
      "source": [
        "# Check contents of the saved file\n",
        "!cat Test.foo"
      ]
    },
    {
      "cell_type": "code",
      "execution_count": 95,
      "metadata": {
        "id": "IFgTX9P9vilV",
        "colab": {
          "base_uri": "https://localhost:8080/"
        },
        "outputId": "73dd38f1-6ed7-436a-81f6-8c232723cd93"
      },
      "outputs": [
        {
          "output_type": "execute_result",
          "data": {
            "text/plain": [
              "foo(1,'hello')"
            ]
          },
          "metadata": {},
          "execution_count": 95
        }
      ],
      "source": [
        "# Load the object\n",
        "ff_reloaded=foo_loader(\"Test.foo\")\n",
        "ff_reloaded"
      ]
    }
  ],
  "metadata": {
    "kernelspec": {
      "display_name": "Python 3 (ipykernel)",
      "language": "python",
      "name": "python3"
    },
    "language_info": {
      "codemirror_mode": {
        "name": "ipython",
        "version": 3
      },
      "file_extension": ".py",
      "mimetype": "text/x-python",
      "name": "python",
      "nbconvert_exporter": "python",
      "pygments_lexer": "ipython3",
      "version": "3.9.6"
    },
    "colab": {
      "provenance": []
    }
  },
  "nbformat": 4,
  "nbformat_minor": 0
}