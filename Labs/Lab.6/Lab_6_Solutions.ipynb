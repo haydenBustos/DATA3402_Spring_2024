{
  "cells": [
    {
      "cell_type": "markdown",
      "metadata": {
        "id": "twKSOcCbBCLk"
      },
      "source": [
        "# Lab 6"
      ]
    },
    {
      "cell_type": "markdown",
      "metadata": {
        "id": "Xod0kD6LBCLp"
      },
      "source": [
        "You are tasked with evaluating card counting strategies for black jack. In order to do so, you will use object oriented programming to create a playable casino style black jack game where a computer dealer plays against $n$ computer players and possibily one human player. If you don't know the rules of blackjack or card counting, please google it.\n",
        "\n",
        "A few requirements:\n",
        "* The game should utilize multiple 52-card decks. Typically the game is played with 6 decks.\n",
        "* Players should have chips.\n",
        "* Dealer's actions are predefined by rules of the game (typically hit on 16).\n",
        "* The players should be aware of all shown cards so that they can count cards.\n",
        "* Each player could have a different strategy.\n",
        "* The system should allow you to play large numbers of games, study the outcomes, and compare average winnings per hand rate for different strategies."
      ]
    },
    {
      "cell_type": "markdown",
      "source": [
        "# Focus on design and the last parts will be done with Farbin. About 7 - End."
      ],
      "metadata": {
        "id": "OM1MzuNfB0rv"
      }
    },
    {
      "cell_type": "markdown",
      "metadata": {
        "id": "ZzlrYfVMBCLq"
      },
      "source": [
        "1. Begin by creating a classes to represent cards and decks. The deck should support more than one 52-card set. The deck should allow you to shuffle and draw cards. Include a \"plastic\" card, placed randomly in the deck. Later, when the plastic card is dealt, shuffle the cards before the next deal."
      ]
    },
    {
      "cell_type": "code",
      "source": [
        "## Class Card: contains a suit and a value"
      ],
      "metadata": {
        "id": "5xLz6b1U2YuC"
      },
      "execution_count": 12,
      "outputs": []
    },
    {
      "cell_type": "code",
      "source": [
        "import random\n",
        "\n",
        "class Card:\n",
        "    def __init__(self, suit, value):\n",
        "        self.suit = suit\n",
        "        self.value = value\n",
        "\n",
        "    def __repr__(self):\n",
        "        return f\"{self.value} of {self.suit}\""
      ],
      "metadata": {
        "id": "rSTQNPEjJQnc"
      },
      "execution_count": 13,
      "outputs": []
    },
    {
      "cell_type": "code",
      "source": [
        "# Class Deck: contains methods to shuffle and randomly draw from the deck."
      ],
      "metadata": {
        "id": "ovWxf9ms2xds"
      },
      "execution_count": 14,
      "outputs": []
    },
    {
      "cell_type": "code",
      "source": [
        "class Deck:\n",
        "    def __init__(self, num_decks):\n",
        "        self.num_decks = num_decks\n",
        "        self.cards = []\n",
        "        self.populate()\n",
        "\n",
        "    def populate(self):\n",
        "        suits = ['Hearts', 'Diamonds', 'Clubs', 'Spades']\n",
        "        values = ['2', '3', '4', '5', '6', '7', '8', '9', '10', 'Jack', 'Queen', 'King', 'Ace']\n",
        "        for _ in range(self.num_decks):\n",
        "            for suit in suits:\n",
        "                for value in values:\n",
        "                    self.cards.append(Card(suit, value))\n",
        "        random.shuffle(self.cards)\n",
        "\n",
        "    def draw(self):\n",
        "        if len(self.cards) == 0:\n",
        "            self.populate()\n",
        "        return self.cards.pop(0)"
      ],
      "metadata": {
        "id": "ezgYIMlw2xp0"
      },
      "execution_count": 15,
      "outputs": []
    },
    {
      "cell_type": "markdown",
      "metadata": {
        "id": "xPsYZgIbBCLr"
      },
      "source": [
        "2. Now design your game on a UML diagram. You may want to create classes to represent, players, a hand, and/or the game. As you work through the lab, update your UML diagram. At the end of the lab, submit your diagram (as pdf file) along with your notebook."
      ]
    },
    {
      "cell_type": "code",
      "source": [],
      "metadata": {
        "id": "nIHVjbIGJRM0"
      },
      "execution_count": 15,
      "outputs": []
    },
    {
      "cell_type": "markdown",
      "metadata": {
        "id": "ZQEXu5GRBCLs"
      },
      "source": [
        "3. Begin with implementing the skeleton (ie define data members and methods/functions, but do not code the logic) of the classes in your UML diagram."
      ]
    },
    {
      "cell_type": "code",
      "source": [
        "import random\n",
        "\n",
        "class Card:\n",
        "    def __init__(self, suit, value):\n",
        "        pass\n",
        "\n",
        "    def __repr__(self):\n",
        "        pass\n",
        "\n",
        "class Deck:\n",
        "    def __init__(self, num_decks):\n",
        "        pass\n",
        "\n",
        "    def populate(self):\n",
        "        pass\n",
        "\n",
        "    def draw(self):\n",
        "        pass\n",
        "\n",
        "class Hand:\n",
        "    def __init__(self):\n",
        "        pass\n",
        "\n",
        "    def add_card(self, card):\n",
        "        pass\n",
        "\n",
        "    def clear(self):\n",
        "        pass\n",
        "\n",
        "class Player:\n",
        "    def __init__(self, name, chips):\n",
        "        pass\n",
        "\n",
        "    def add_card(self, card):\n",
        "        pass\n",
        "\n",
        "    def clear_hand(self):\n",
        "        pass\n",
        "\n",
        "class BlackjackGame:\n",
        "    def __init__(self, num_decks, num_players):\n",
        "        pass\n",
        "\n",
        "    def create_players(self):\n",
        "        pass\n",
        "\n",
        "    def deal_initial(self):\n",
        "        pass\n",
        "\n",
        "    def play_round(self):\n",
        "        pass\n",
        "\n",
        "    def player_turn(self, player):\n",
        "        pass\n",
        "\n",
        "    def dealer_turn(self):\n",
        "        pass\n",
        "\n",
        "    def determine_winners(self):\n",
        "        pass\n",
        "\n",
        "    def calculate_hand_value(self, hand):\n",
        "        pass\n",
        "\n",
        "    def print_table(self, show_dealer=False):\n",
        "        pass\n",
        "\n",
        "    def clear_hands(self):\n",
        "        pass\n",
        "\n",
        "if __name__ == \"__main__\":\n",
        "    num_decks = 6\n",
        "    num_players = int(input(\"Enter the number of players: \"))\n",
        "    num_rounds = int(input(\"Enter the number of rounds to play: \"))\n",
        "    game = BlackjackGame(num_decks, num_players)\n",
        "    for _ in range(num_rounds):\n",
        "        game.play_round()\n"
      ],
      "metadata": {
        "id": "djrdGOcKJTGo"
      },
      "execution_count": null,
      "outputs": []
    },
    {
      "cell_type": "markdown",
      "metadata": {
        "id": "d2Vf-K0gBCLs"
      },
      "source": [
        "\n",
        "4. Complete the implementation by coding the logic of all functions. For now, just implement the dealer player and human player."
      ]
    },
    {
      "cell_type": "code",
      "source": [
        "import random\n",
        "\n",
        "class Card:\n",
        "    def __init__(self, suit, value):  # suit of the card and value of the card\n",
        "        self.suit = suit\n",
        "        self.value = value\n",
        "\n",
        "    def __repr__(self):  # return the value and suit of the card in string form\n",
        "        return f\"{self.value} of {self.suit}\"\n",
        "\n",
        "\n",
        "class Deck:\n",
        "    def __init__(self, num_decks):  # initialize number of decks for game\n",
        "        self.num_decks = num_decks\n",
        "        self.cards = []\n",
        "        self.populate()\n",
        "\n",
        "    def populate(self):  # list of possible suits, list of possible values\n",
        "        suits = ['Hearts', 'Diamonds', 'Clubs', 'Spades']\n",
        "        values = ['2', '3', '4', '5', '6', '7', '8', '9', '10', 'Jack', 'Queen', 'King', 'Ace']\n",
        "        for _ in range(self.num_decks):\n",
        "            for suit in suits:\n",
        "                for value in values:\n",
        "                    self.cards.append(Card(suit, value)) # add each card to the deck, given suit and value\n",
        "        random.shuffle(self.cards)\n",
        "\n",
        "    def draw(self):\n",
        "        if len(self.cards) == 0:\n",
        "            self.populate() # populate if empty\n",
        "        return self.cards.pop(0)\n",
        "\n",
        "\n",
        "class Hand:\n",
        "    def __init__(self):  # empty list to hold cards\n",
        "        self.cards = []\n",
        "\n",
        "    def add_card(self, card):  # add the card to the list of cards in game\n",
        "        self.cards.append(card)\n",
        "\n",
        "    def clear(self):  # clear the list when applicable\n",
        "        self.cards = []\n",
        "\n",
        "    def calculate_value(self):  # method to calculate the total value of the hand and number of aces in the hand\n",
        "        total = 0\n",
        "        num_aces = 0\n",
        "        for card in self.cards:\n",
        "            if card.value.isdigit():\n",
        "                total += int(card.value)  # if regular card\n",
        "            elif card.value in ['Jack', 'Queen', 'King']:  # if face card\n",
        "                total += 10  # add 10 to the total\n",
        "            else:\n",
        "                total += 11  # assumes ace is worth 11 as long as the total is not greater than 21\n",
        "                num_aces += 1\n",
        "        while total > 21 and num_aces > 0:\n",
        "            total -= 10  # subtract 10 from the total if the hand is greater than 21\n",
        "            num_aces -= 1\n",
        "        return total\n",
        "\n",
        "\n",
        "class Player:\n",
        "    def __init__(self, name, chips):  # name of the player, number of chips the player has\n",
        "        self.name = name\n",
        "        self.chips = chips  # amount of chips in game\n",
        "        self.hand = Hand() # hand of the player (starts empty)\n",
        "\n",
        "    def add_card(self, card):  # add the card to the player's hand\n",
        "        self.hand.add_card(card)\n",
        "\n",
        "    def clear_hand(self):\n",
        "        self.hand.clear() # clears the player hand\n",
        "\n",
        "\n",
        "class BlackjackGame:\n",
        "    def __init__(self, num_decks, num_players, player=None):\n",
        "        self.deck = Deck(num_decks)\n",
        "        self.num_players = num_players\n",
        "        self.players = []\n",
        "        self.dealer = Player(\"Dealer\", 0)\n",
        "        if player:\n",
        "            self.players.append(player)\n",
        "        self.create_players()\n",
        "\n",
        "    def create_players(self):  # create player objects for rach player\n",
        "        for i in range(self.num_players):\n",
        "            name = f\"Player {i+1}\"\n",
        "            chips = 1000                  # chips for each player\n",
        "            self.players.append(Player(name, chips))\n",
        "\n",
        "    def deal_initial(self):\n",
        "        for _ in range(2): # deals two cards to each player\n",
        "            for player in [self.dealer] + self.players:\n",
        "                player.add_card(self.deck.draw())\n",
        "\n",
        "    def play_round(self):  # deal initial cards, print table, player turns, dealer turn, determine winners, clear hands\n",
        "        self.deal_initial()\n",
        "        self.print_table(show_dealer=False)\n",
        "        for player in self.players:\n",
        "            self.player_turn(player)\n",
        "        self.dealer_turn()\n",
        "        self.determine_winners()\n",
        "        self.clear_hands()\n",
        "\n",
        "    def player_turn(self, player):  # ask the player to hit or stay until they stay or bust\n",
        "        while True:\n",
        "            action = input(f\"{player.name}, do you want to hit or stay? (h/s): \").lower()\n",
        "            if action == 'h':\n",
        "                player.add_card(self.deck.draw())\n",
        "                self.print_table(show_dealer=False)\n",
        "                if player.hand.calculate_value() > 21:\n",
        "                    print(f\"{player.name} busts!\")\n",
        "                    break\n",
        "            elif action == 's':\n",
        "                break\n",
        "\n",
        "    def dealer_turn(self):  # dealer draws cards until their hand value is greater than 16\n",
        "        while self.dealer.hand.calculate_value() < 17:\n",
        "            self.dealer.add_card(self.deck.draw())\n",
        "\n",
        "    def determine_winners(self):  # compare each player's hand to determine the winner\n",
        "        dealer_score = self.dealer.hand.calculate_value()\n",
        "        for player in self.players:\n",
        "            player_score = player.hand.calculate_value()\n",
        "            if player_score > 21:\n",
        "                print(f\"{player.name} busts!\")\n",
        "            elif dealer_score > 21 or player_score > dealer_score:\n",
        "                print(f\"{player.name} wins!\")\n",
        "                player.chips += 10          # simple betting system\n",
        "            elif player_score == dealer_score:\n",
        "                print(f\"{player.name} ties with the dealer.\")\n",
        "            else:\n",
        "                print(f\"{player.name} loses.\")\n",
        "\n",
        "    def print_table(self, show_dealer=False):  # print the dealer's hand and each player's hand\n",
        "        print(\"\\nDealer's Hand:\")\n",
        "        if show_dealer:\n",
        "            for card in self.dealer.hand.cards:\n",
        "                print(card)\n",
        "            print(\"Total:\", self.dealer.hand.calculate_value() - self.dealer.hand.calculate_value() // 2)\n",
        "        else:\n",
        "            print(self.dealer.hand.cards[0]) # all other cards are face down\n",
        "            print(\"Total: ?\", \"\\n\")\n",
        "\n",
        "        print(\"\\nPlayers' Hands:\")\n",
        "        for player in self.players:\n",
        "            print(player.name + \":\")\n",
        "            for card in player.hand.cards:\n",
        "                print(card)\n",
        "            print(\"Total:\", player.hand.calculate_value()) # prints total value of hand\n",
        "            print()\n",
        "\n",
        "    def clear_hands(self):  # clear the hands of all players, including the dealer\n",
        "        for player in [self.dealer] + self.players:\n",
        "            player.clear_hand()\n",
        "\n",
        "if __name__ == \"__main__\":\n",
        "    num_decks = 6\n",
        "    num_players = int(input(\"Enter the number of players: \"))\n",
        "    num_rounds = int(input(\"Enter the number of rounds to play: \"))\n",
        "    game = BlackjackGame(num_decks, num_players)\n",
        "    for _ in range(num_rounds):\n",
        "        game.play_round() # specifies one round of game play\n"
      ],
      "metadata": {
        "colab": {
          "base_uri": "https://localhost:8080/",
          "height": 373
        },
        "id": "ogl3dI8-czMV",
        "outputId": "101c10d7-1692-441f-c30e-b2a7a00a545c"
      },
      "execution_count": 17,
      "outputs": [
        {
          "output_type": "error",
          "ename": "KeyboardInterrupt",
          "evalue": "Interrupted by user",
          "traceback": [
            "\u001b[0;31m---------------------------------------------------------------------------\u001b[0m",
            "\u001b[0;31mKeyboardInterrupt\u001b[0m                         Traceback (most recent call last)",
            "\u001b[0;32m<ipython-input-17-0c28a3e73c67>\u001b[0m in \u001b[0;36m<cell line: 155>\u001b[0;34m()\u001b[0m\n\u001b[1;32m    155\u001b[0m \u001b[0;32mif\u001b[0m \u001b[0m__name__\u001b[0m \u001b[0;34m==\u001b[0m \u001b[0;34m\"__main__\"\u001b[0m\u001b[0;34m:\u001b[0m\u001b[0;34m\u001b[0m\u001b[0;34m\u001b[0m\u001b[0m\n\u001b[1;32m    156\u001b[0m     \u001b[0mnum_decks\u001b[0m \u001b[0;34m=\u001b[0m \u001b[0;36m6\u001b[0m\u001b[0;34m\u001b[0m\u001b[0;34m\u001b[0m\u001b[0m\n\u001b[0;32m--> 157\u001b[0;31m     \u001b[0mnum_players\u001b[0m \u001b[0;34m=\u001b[0m \u001b[0mint\u001b[0m\u001b[0;34m(\u001b[0m\u001b[0minput\u001b[0m\u001b[0;34m(\u001b[0m\u001b[0;34m\"Enter the number of players: \"\u001b[0m\u001b[0;34m)\u001b[0m\u001b[0;34m)\u001b[0m\u001b[0;34m\u001b[0m\u001b[0;34m\u001b[0m\u001b[0m\n\u001b[0m\u001b[1;32m    158\u001b[0m     \u001b[0mnum_rounds\u001b[0m \u001b[0;34m=\u001b[0m \u001b[0mint\u001b[0m\u001b[0;34m(\u001b[0m\u001b[0minput\u001b[0m\u001b[0;34m(\u001b[0m\u001b[0;34m\"Enter the number of rounds to play: \"\u001b[0m\u001b[0;34m)\u001b[0m\u001b[0;34m)\u001b[0m\u001b[0;34m\u001b[0m\u001b[0;34m\u001b[0m\u001b[0m\n\u001b[1;32m    159\u001b[0m     \u001b[0mgame\u001b[0m \u001b[0;34m=\u001b[0m \u001b[0mBlackjackGame\u001b[0m\u001b[0;34m(\u001b[0m\u001b[0mnum_decks\u001b[0m\u001b[0;34m,\u001b[0m \u001b[0mnum_players\u001b[0m\u001b[0;34m)\u001b[0m\u001b[0;34m\u001b[0m\u001b[0;34m\u001b[0m\u001b[0m\n",
            "\u001b[0;32m/usr/local/lib/python3.10/dist-packages/ipykernel/kernelbase.py\u001b[0m in \u001b[0;36mraw_input\u001b[0;34m(self, prompt)\u001b[0m\n\u001b[1;32m    849\u001b[0m                 \u001b[0;34m\"raw_input was called, but this frontend does not support input requests.\"\u001b[0m\u001b[0;34m\u001b[0m\u001b[0;34m\u001b[0m\u001b[0m\n\u001b[1;32m    850\u001b[0m             )\n\u001b[0;32m--> 851\u001b[0;31m         return self._input_request(str(prompt),\n\u001b[0m\u001b[1;32m    852\u001b[0m             \u001b[0mself\u001b[0m\u001b[0;34m.\u001b[0m\u001b[0m_parent_ident\u001b[0m\u001b[0;34m,\u001b[0m\u001b[0;34m\u001b[0m\u001b[0;34m\u001b[0m\u001b[0m\n\u001b[1;32m    853\u001b[0m             \u001b[0mself\u001b[0m\u001b[0;34m.\u001b[0m\u001b[0m_parent_header\u001b[0m\u001b[0;34m,\u001b[0m\u001b[0;34m\u001b[0m\u001b[0;34m\u001b[0m\u001b[0m\n",
            "\u001b[0;32m/usr/local/lib/python3.10/dist-packages/ipykernel/kernelbase.py\u001b[0m in \u001b[0;36m_input_request\u001b[0;34m(self, prompt, ident, parent, password)\u001b[0m\n\u001b[1;32m    893\u001b[0m             \u001b[0;32mexcept\u001b[0m \u001b[0mKeyboardInterrupt\u001b[0m\u001b[0;34m:\u001b[0m\u001b[0;34m\u001b[0m\u001b[0;34m\u001b[0m\u001b[0m\n\u001b[1;32m    894\u001b[0m                 \u001b[0;31m# re-raise KeyboardInterrupt, to truncate traceback\u001b[0m\u001b[0;34m\u001b[0m\u001b[0;34m\u001b[0m\u001b[0m\n\u001b[0;32m--> 895\u001b[0;31m                 \u001b[0;32mraise\u001b[0m \u001b[0mKeyboardInterrupt\u001b[0m\u001b[0;34m(\u001b[0m\u001b[0;34m\"Interrupted by user\"\u001b[0m\u001b[0;34m)\u001b[0m \u001b[0;32mfrom\u001b[0m \u001b[0;32mNone\u001b[0m\u001b[0;34m\u001b[0m\u001b[0;34m\u001b[0m\u001b[0m\n\u001b[0m\u001b[1;32m    896\u001b[0m             \u001b[0;32mexcept\u001b[0m \u001b[0mException\u001b[0m \u001b[0;32mas\u001b[0m \u001b[0me\u001b[0m\u001b[0;34m:\u001b[0m\u001b[0;34m\u001b[0m\u001b[0;34m\u001b[0m\u001b[0m\n\u001b[1;32m    897\u001b[0m                 \u001b[0mself\u001b[0m\u001b[0;34m.\u001b[0m\u001b[0mlog\u001b[0m\u001b[0;34m.\u001b[0m\u001b[0mwarning\u001b[0m\u001b[0;34m(\u001b[0m\u001b[0;34m\"Invalid Message:\"\u001b[0m\u001b[0;34m,\u001b[0m \u001b[0mexc_info\u001b[0m\u001b[0;34m=\u001b[0m\u001b[0;32mTrue\u001b[0m\u001b[0;34m)\u001b[0m\u001b[0;34m\u001b[0m\u001b[0;34m\u001b[0m\u001b[0m\n",
            "\u001b[0;31mKeyboardInterrupt\u001b[0m: Interrupted by user"
          ]
        }
      ]
    },
    {
      "cell_type": "markdown",
      "metadata": {
        "id": "xE9tdFZqBCLt"
      },
      "source": [
        "5.  Test. Demonstrate game play. For example, create a game of several dealer players and show that the game is functional through several rounds."
      ]
    },
    {
      "cell_type": "code",
      "source": [
        "num_decks = 6\n",
        "num_players = 1\n",
        "num_rounds = 3\n",
        "\n",
        "game = BlackjackGame(num_decks, num_players)\n",
        "\n",
        "for round_num in range(1, num_rounds + 1):\n",
        "  print(f\"\\nRound {round_num}:\")\n",
        "  game.play_round()"
      ],
      "metadata": {
        "id": "41QntwYZJUKW"
      },
      "execution_count": null,
      "outputs": []
    },
    {
      "cell_type": "markdown",
      "metadata": {
        "id": "l09M6DWMBCLt"
      },
      "source": [
        "6. Implement a new player with the following strategy:\n",
        "\n",
        "    * Assign each card a value:\n",
        "        * Cards 2 to 6 are +1\n",
        "        * Cards 7 to 9 are 0\n",
        "        * Cards 10 through Ace are -1\n",
        "    * Compute the sum of the values for all cards seen so far.\n",
        "    * Hit if sum is very negative, stay if sum is very positive. Select a threshold for hit/stay, e.g. 0 or -2.  \n",
        "    ## Keep the sum and if the sum is very negative, then hit, vise versa. What is the optimal threshold?"
      ]
    },
    {
      "cell_type": "code",
      "source": [
        "class CardCounterPlayer(Player):\n",
        "    def __init__(self, name, chips):\n",
        "        super().__init__(name, chips)\n",
        "        self.card_values = {'2': 1, '3': 1, '4': 1, '5': 1, '6': 1,\n",
        "                            '7': 0, '8': 0, '9': 0,\n",
        "                            '10': -1, 'Jack': -1, 'Queen': -1, 'King': -1, 'Ace': -1}\n",
        "        self.sum_values = 0\n",
        "\n",
        "    def player_turn(self):\n",
        "        self.sum_values = sum(self.card_values.get(card.value, 0) for card in self.hand.cards) # calculate the sum in the hand\n",
        "\n",
        "        if self.sum_values < -1:  # hit if the sum is below -1\n",
        "            return 'h'\n",
        "        else:\n",
        "            return 's'  # otherwise, stay"
      ],
      "metadata": {
        "id": "RXarWFP3JUdy"
      },
      "execution_count": null,
      "outputs": []
    },
    {
      "cell_type": "markdown",
      "metadata": {
        "id": "_wQf91NNBCLu"
      },
      "source": [
        "7. Create a test scenario where one player, using the above strategy, is playing with a dealer and 3 other players that follow the dealer's strategy. Each player starts with same number of chips. Play 50 rounds (or until the strategy player is out of money). Compute the strategy player's winnings. You may remove unnecessary printouts from your code (perhaps implement a verbose/quiet mode) to reduce the output.\n",
        "## Compute winnings for each player. No printing, implement a verbose mode."
      ]
    },
    {
      "cell_type": "code",
      "source": [],
      "metadata": {
        "id": "VUlXteZmJVf5"
      },
      "execution_count": null,
      "outputs": []
    },
    {
      "cell_type": "markdown",
      "metadata": {
        "id": "EilB2HU3BCLu"
      },
      "source": [
        "8. Create a loop that runs 100 games of 50 rounds, as setup in previous question, and store the strategy player's chips at the end of the game (aka \"winnings\") in a list. Histogram the winnings. What is the average winnings per round? What is the standard deviation. What is the probabilty of net winning or lossing after 50 rounds?\n",
        "## Find average winnings per round and find std. What is the fraction of days when they won money overall?"
      ]
    },
    {
      "cell_type": "markdown",
      "metadata": {
        "id": "OClYa0VcBCLv"
      },
      "source": [
        "9. Repeat previous questions scanning the value of the threshold. Try at least 5 different threshold values. Can you find an optimal value?"
      ]
    },
    {
      "cell_type": "markdown",
      "metadata": {
        "id": "fsMJEUJrBCLv"
      },
      "source": [
        "10. Create a new strategy based on web searches or your own ideas. Demonstrate that the new strategy will result in increased or decreased winnings.\n",
        "## Implement some card counting strategies! Do the study and demonstrate winnings."
      ]
    }
  ],
  "metadata": {
    "kernelspec": {
      "display_name": "Python 3 (ipykernel)",
      "language": "python",
      "name": "python3"
    },
    "language_info": {
      "codemirror_mode": {
        "name": "ipython",
        "version": 3
      },
      "file_extension": ".py",
      "mimetype": "text/x-python",
      "name": "python",
      "nbconvert_exporter": "python",
      "pygments_lexer": "ipython3",
      "version": "3.9.6"
    },
    "colab": {
      "provenance": []
    }
  },
  "nbformat": 4,
  "nbformat_minor": 0
}